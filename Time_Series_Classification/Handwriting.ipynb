{
  "cells": [
    {
      "cell_type": "markdown",
      "metadata": {
        "colab_type": "text",
        "id": "view-in-github"
      },
      "source": [
        "<a href=\"https://colab.research.google.com/github/mijanr/TimeSeries/blob/master/Handwriting.ipynb\" target=\"_parent\"><img src=\"https://colab.research.google.com/assets/colab-badge.svg\" alt=\"Open In Colab\"/></a>"
      ]
    },
    {
      "cell_type": "code",
      "execution_count": 126,
      "metadata": {
        "id": "6hsRMSVM4MeK"
      },
      "outputs": [],
      "source": [
        "import numpy as np\n",
        "import matplotlib.pyplot as plt\n",
        "from sklearn.preprocessing import MinMaxScaler\n",
        "\n",
        "import torch\n",
        "import torch.nn as nn\n",
        "import torch.nn.functional as F\n",
        "import torch.optim as optim\n",
        "from torch.utils.data import DataLoader, TensorDataset\n",
        "\n",
        "from xgboost import XGBClassifier\n",
        "from sklearn.metrics import accuracy_score\n",
        "from sklearn.preprocessing import LabelEncoder\n",
        "\n",
        "#from sktime.datasets import load_UCR_UEA_dataset\n",
        "from tslearn.datasets import UCR_UEA_datasets\n",
        "\n",
        "#1d interpolation\n",
        "from scipy.interpolate import interp1d\n",
        "\n",
        "#tensorboard\n",
        "from torch.utils.tensorboard import SummaryWriter\n",
        "writer = SummaryWriter('runs/ChlorineConcentration')"
      ]
    },
    {
      "cell_type": "code",
      "execution_count": 127,
      "metadata": {
        "id": "kkgPf-8j4MeO"
      },
      "outputs": [],
      "source": [
        "dataset_name = 'Handwriting'"
      ]
    },
    {
      "cell_type": "code",
      "execution_count": 128,
      "metadata": {
        "id": "JHT5UhP94MeP"
      },
      "outputs": [],
      "source": [
        "#load dataset using tslearn\n",
        "data_loader = UCR_UEA_datasets()\n",
        "X_train, y_train, X_test, y_test  = data_loader.load_dataset(dataset_name)"
      ]
    },
    {
      "cell_type": "code",
      "execution_count": 129,
      "metadata": {
        "colab": {
          "base_uri": "https://localhost:8080/"
        },
        "id": "sK_0bZHS4MeP",
        "outputId": "ae37d329-4f78-4ddd-fe24-dcb726e0df67"
      },
      "outputs": [
        {
          "data": {
            "text/plain": [
              "((150, 152, 3), (150,), (850, 152, 3), (850,))"
            ]
          },
          "execution_count": 129,
          "metadata": {},
          "output_type": "execute_result"
        }
      ],
      "source": [
        "X_train.shape, y_train.shape, X_test.shape, y_test.shape"
      ]
    },
    {
      "cell_type": "code",
      "execution_count": 130,
      "metadata": {
        "id": "gvd2cPR34MeQ"
      },
      "outputs": [],
      "source": [
        "#encode labels\n",
        "le = LabelEncoder()\n",
        "y_train = le.fit_transform(y_train)\n",
        "y_test = le.transform(y_test)"
      ]
    },
    {
      "cell_type": "code",
      "execution_count": 131,
      "metadata": {
        "id": "2XiSbHRg7-Fl"
      },
      "outputs": [],
      "source": [
        "#interpolate data\n",
        "length = 50\n",
        "def interpolate(X, length):\n",
        "    X_interpolated = []\n",
        "    for i in range(X.shape[0]):\n",
        "        x = np.linspace(0, 1, X.shape[1])\n",
        "        f = interp1d(x, X[i], axis=0)\n",
        "        xnew = np.linspace(0, 1, length)\n",
        "        ynew = f(xnew)\n",
        "        X_interpolated.append(ynew)\n",
        "    return np.array(X_interpolated)"
      ]
    },
    {
      "cell_type": "code",
      "execution_count": 132,
      "metadata": {
        "id": "9nqlWQ2R7_Vm"
      },
      "outputs": [],
      "source": [
        "X_interpolated_train = interpolate(X_train, length)\n",
        "X_interpolated_test = interpolate(X_test, length)"
      ]
    },
    {
      "cell_type": "code",
      "execution_count": 133,
      "metadata": {
        "id": "Fdkg6fwi4MeQ"
      },
      "outputs": [],
      "source": [
        "#torch tensor\n",
        "X_train = torch.tensor(X_interpolated_train, dtype=torch.float32)\n",
        "y_train = torch.tensor(y_train, dtype=torch.long)\n",
        "X_test = torch.tensor(X_interpolated_test, dtype=torch.float32)\n",
        "y_test = torch.tensor(y_test, dtype=torch.long)"
      ]
    },
    {
      "cell_type": "code",
      "execution_count": 134,
      "metadata": {
        "id": "nO0aGTMJ5op2"
      },
      "outputs": [],
      "source": [
        "#normalize data\n",
        "X_train = (X_train - X_train.min()) / (X_train.max() - X_train.min())\n",
        "X_test = (X_test - X_test.min()) / (X_test.max() - X_test.min())"
      ]
    },
    {
      "cell_type": "code",
      "execution_count": 135,
      "metadata": {},
      "outputs": [
        {
          "data": {
            "text/plain": [
              "(torch.Size([150, 50, 3]),\n",
              " torch.Size([150]),\n",
              " torch.Size([850, 50, 3]),\n",
              " torch.Size([850]))"
            ]
          },
          "execution_count": 135,
          "metadata": {},
          "output_type": "execute_result"
        }
      ],
      "source": [
        "#print shapes\n",
        "X_train.shape, y_train.shape, X_test.shape, y_test.shape"
      ]
    },
    {
      "cell_type": "code",
      "execution_count": 136,
      "metadata": {
        "id": "hq7mnzCi4MeQ"
      },
      "outputs": [],
      "source": [
        "#datasets\n",
        "train_dataset = TensorDataset(X_train, y_train)\n",
        "test_dataset = TensorDataset(X_test, y_test)\n",
        "#dataloaders\n",
        "train_loader = DataLoader(train_dataset, batch_size=64, shuffle=True)\n",
        "test_loader = DataLoader(test_dataset, batch_size=64, shuffle=False)"
      ]
    },
    {
      "cell_type": "code",
      "execution_count": 137,
      "metadata": {},
      "outputs": [
        {
          "data": {
            "text/plain": [
              "(150, 850)"
            ]
          },
          "execution_count": 137,
          "metadata": {},
          "output_type": "execute_result"
        }
      ],
      "source": [
        "len(train_dataset), len(test_dataset)"
      ]
    },
    {
      "cell_type": "code",
      "execution_count": 200,
      "metadata": {
        "id": "9lgJwCrO4MeS"
      },
      "outputs": [],
      "source": [
        "#CNN model\n",
        "class CNN(nn.Module):\n",
        "    def __init__(self, input_size, num_classes):\n",
        "        super(CNN, self).__init__()\n",
        "        self.sequential = nn.Sequential(\n",
        "            nn.Conv1d(in_channels=input_size, out_channels=16, kernel_size=3, stride=1, padding='valid'),\n",
        "            nn.BatchNorm1d(16),\n",
        "            nn.ReLU(),\n",
        "            nn.MaxPool1d(kernel_size=2, stride=2),\n",
        "            nn.Conv1d(in_channels=16, out_channels=32, kernel_size=3, stride=1, padding='valid'),\t\n",
        "            nn.BatchNorm1d(32),\n",
        "            nn.ReLU(),\n",
        "            nn.MaxPool1d(kernel_size=2, stride=2),\n",
        "            #flatten\n",
        "            nn.Flatten(),\n",
        "            nn.LazyLinear(out_features=128),\n",
        "            nn.ReLU(),\n",
        "            nn.Dropout(0.2),\n",
        "            nn.Linear(in_features=128, out_features=64),\n",
        "            nn.ReLU(),\n",
        "            nn.Dropout(0.2),\n",
        "            nn.Linear(in_features=64, out_features=num_classes)\n",
        "        )\n",
        "    def forward(self, x):\n",
        "        x = x.permute(0, 2, 1)\n",
        "        x = self.sequential(x)\n",
        "        return x\n",
        "#LSM model\n",
        "class LSTM(nn.Module):\n",
        "    def __init__(self, input_size, hidden_size, num_layers, num_classes):\n",
        "        super(LSTM, self).__init__()\n",
        "        self.hidden_size = hidden_size\n",
        "        self.num_layers = num_layers\n",
        "        self.lstm = nn.LSTM(input_size, hidden_size, num_layers, batch_first=True)\n",
        "        self.fc = nn.Linear(hidden_size, num_classes)\n",
        "        self.device = torch.device('cuda' if torch.cuda.is_available() else 'cpu')\n",
        "    def forward(self, x):\n",
        "        #set initial states\n",
        "        h0 = torch.zeros(self.num_layers, x.size(0), self.hidden_size).to(device)\n",
        "        c0 = torch.zeros(self.num_layers, x.size(0), self.hidden_size).to(device)\n",
        "        #forward propagate LSTM\n",
        "        out, _ = self.lstm(x, (h0, c0))\n",
        "        #decode the hidden state of the last time step\n",
        "        out = self.fc(out[:, -1, :])\n",
        "        return out\n",
        "class CNN_LSTM(nn.Module):\n",
        "    def __init__(self):\n",
        "        super(CNN_LSTM, self).__init__()\n",
        "        self.cnn = nn.Sequential(\n",
        "            nn.Conv1d(in_channels=3, out_channels=8, kernel_size=3, stride=1, padding='valid'),\n",
        "            nn.BatchNorm1d(8),\n",
        "            nn.ReLU(),\n",
        "            nn.MaxPool1d(kernel_size=2, stride=2)\n",
        "        )\n",
        "        self.lstm = nn.LSTM(input_size=8, hidden_size=64, num_layers=2, batch_first=True)\n",
        "        self.fc = nn.Linear(64, 26)\n",
        "        self.device = torch.device('cuda' if torch.cuda.is_available() else 'cpu')\n",
        "    def forward(self, x):\n",
        "        x = x.permute(0, 2, 1)\n",
        "        x = self.cnn(x)\n",
        "        x = x.permute(0, 2, 1)\n",
        "        #set initial states\n",
        "        h0 = torch.zeros(2, x.size(0), 64).to(device)\n",
        "        c0 = torch.zeros(2, x.size(0), 64).to(device)\n",
        "        #forward propagate LSTM\n",
        "        out, _ = self.lstm(x, (h0, c0))\n",
        "        #decode the hidden state of the last time step\n",
        "        out = self.fc(out[:, -1, :])\n",
        "        return out        "
      ]
    },
    {
      "cell_type": "code",
      "execution_count": 201,
      "metadata": {
        "colab": {
          "base_uri": "https://localhost:8080/"
        },
        "id": "vR8bRugf4MeT",
        "outputId": "4fae603c-8804-44c9-adb0-e51b81481225"
      },
      "outputs": [
        {
          "name": "stdout",
          "output_type": "stream",
          "text": [
            "cuda\n"
          ]
        }
      ],
      "source": [
        "device = torch.device('cuda' if torch.cuda.is_available() else 'cpu')\n",
        "print(device)"
      ]
    },
    {
      "cell_type": "code",
      "execution_count": 202,
      "metadata": {
        "id": "tfCdFdo34MeT"
      },
      "outputs": [],
      "source": [
        "# #cnn model\n",
        "# input_size = X_train.shape[-1]\n",
        "# num_classes = len(np.unique(y_train))\n",
        "# model = CNN(input_size, num_classes).to(device)\n",
        "# # lstm model\n",
        "# input_size = X_train.shape[-1]\n",
        "# hidden_size = 128\n",
        "# num_layers = 3\n",
        "# num_classes = len(np.unique(y_train))\n",
        "# model = LSTM(input_size, hidden_size, num_layers, num_classes).to(device)"
      ]
    },
    {
      "cell_type": "code",
      "execution_count": 203,
      "metadata": {},
      "outputs": [],
      "source": [
        "# #cnn-lstm model\n",
        "model = CNN_LSTM().to(device)"
      ]
    },
    {
      "cell_type": "code",
      "execution_count": 204,
      "metadata": {
        "colab": {
          "base_uri": "https://localhost:8080/"
        },
        "id": "ORoot8MW4MeT",
        "outputId": "60ff8591-b02d-40fc-da1d-cb23526bae21"
      },
      "outputs": [
        {
          "name": "stdout",
          "output_type": "stream",
          "text": [
            "torch.Size([64, 26])\n"
          ]
        }
      ],
      "source": [
        "#feed a sample through the model\n",
        "for data, target in train_loader:\n",
        "    data = data.to(device)\n",
        "    target = target.to(device)\n",
        "    output = model(data)\n",
        "    print(output.shape)\n",
        "    break"
      ]
    },
    {
      "cell_type": "code",
      "execution_count": 205,
      "metadata": {
        "id": "G6WLlrW_4MeT"
      },
      "outputs": [],
      "source": [
        "#optimizer and loss\n",
        "optimizer = optim.Adam(model.parameters(), lr=0.001)\n",
        "criterion = nn.CrossEntropyLoss()"
      ]
    },
    {
      "cell_type": "code",
      "execution_count": 206,
      "metadata": {
        "colab": {
          "base_uri": "https://localhost:8080/"
        },
        "id": "vcfvP97p4MeU",
        "outputId": "f5900cd5-692e-4da6-c028-409aee00a286"
      },
      "outputs": [
        {
          "name": "stdout",
          "output_type": "stream",
          "text": [
            "Epoch: 1, Loss: 3.2553\n",
            "Epoch: 101, Loss: 1.3911\n",
            "Epoch: 201, Loss: 0.5470\n",
            "Epoch: 301, Loss: 0.1177\n",
            "Epoch: 401, Loss: 0.0493\n",
            "Epoch: 501, Loss: 0.0228\n",
            "Epoch: 601, Loss: 0.0153\n",
            "Epoch: 701, Loss: 0.0188\n",
            "Epoch: 801, Loss: 0.0202\n",
            "Epoch: 901, Loss: 0.0101\n"
          ]
        }
      ],
      "source": [
        "#training\n",
        "n_epochs = 1000\n",
        "for epoch in range(n_epochs):\n",
        "    for data, target in train_loader:\n",
        "        data = data.to(device)\n",
        "        target = target.to(device)\n",
        "        #forward\n",
        "        output = model(data)\n",
        "        loss = criterion(output, target)\n",
        "        #backward\n",
        "        optimizer.zero_grad()\n",
        "        loss.backward()\n",
        "        optimizer.step()\n",
        "    if epoch%100==0:\n",
        "        print(f'Epoch: {epoch+1}, Loss: {loss.item():.4f}')"
      ]
    },
    {
      "cell_type": "code",
      "execution_count": 207,
      "metadata": {
        "colab": {
          "base_uri": "https://localhost:8080/"
        },
        "id": "J0J13adl4MeU",
        "outputId": "41e45dce-dd9c-464e-cd26-ca932ef6a153"
      },
      "outputs": [
        {
          "name": "stdout",
          "output_type": "stream",
          "text": [
            "Accuracy: 24.12\n"
          ]
        }
      ],
      "source": [
        "#testing\n",
        "with torch.no_grad():\n",
        "    n_correct = 0\n",
        "    n_samples = 0\n",
        "    for data, target in test_loader:\n",
        "        data = data.to(device)\n",
        "        target = target.to(device)\n",
        "        output = model(data)\n",
        "        #value, index\n",
        "        _, predictions = torch.max(output, 1)\n",
        "        n_samples += target.shape[0]\n",
        "        n_correct += (predictions == target).sum().item()\n",
        "    acc = 100.0 * n_correct / n_samples\n",
        "    print(f'Accuracy: {acc:.2f}')"
      ]
    },
    {
      "cell_type": "code",
      "execution_count": null,
      "metadata": {
        "id": "cmQzAXxd4MeU"
      },
      "outputs": [],
      "source": []
    }
  ],
  "metadata": {
    "accelerator": "GPU",
    "colab": {
      "include_colab_link": true,
      "provenance": []
    },
    "gpuClass": "standard",
    "kernelspec": {
      "display_name": "Python 3.9.7 ('base')",
      "language": "python",
      "name": "python3"
    },
    "language_info": {
      "codemirror_mode": {
        "name": "ipython",
        "version": 3
      },
      "file_extension": ".py",
      "mimetype": "text/x-python",
      "name": "python",
      "nbconvert_exporter": "python",
      "pygments_lexer": "ipython3",
      "version": "3.9.7"
    },
    "orig_nbformat": 4,
    "vscode": {
      "interpreter": {
        "hash": "7b9bf3d753fefe854781e52229fcc2b6d37fd5cec0eed166290fc2ac2cd3389d"
      }
    }
  },
  "nbformat": 4,
  "nbformat_minor": 0
}
