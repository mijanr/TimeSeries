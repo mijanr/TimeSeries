{
  "cells": [
    {
      "cell_type": "markdown",
      "metadata": {
        "id": "view-in-github",
        "colab_type": "text"
      },
      "source": [
        "<a href=\"https://colab.research.google.com/github/mijanr/TimeSeries/blob/master/Ford_data_classification.ipynb\" target=\"_parent\"><img src=\"https://colab.research.google.com/assets/colab-badge.svg\" alt=\"Open In Colab\"/></a>"
      ]
    },
    {
      "cell_type": "code",
      "execution_count": 30,
      "metadata": {
        "id": "Ghl6lhbFAPAM"
      },
      "outputs": [],
      "source": [
        "import numpy as np\n",
        "import matplotlib.pyplot as plt\n",
        "from sklearn.preprocessing import MinMaxScaler\n",
        "\n",
        "import torch\n",
        "import torch.nn as nn\n",
        "import torch.nn.functional as F\n",
        "import torch.optim as optim\n",
        "from torch.utils.data import DataLoader, TensorDataset\n",
        "\n",
        "from xgboost import XGBClassifier\n",
        "from sklearn.metrics import accuracy_score\n",
        "#1d interpolation\n",
        "from scipy.interpolate import interp1d\n",
        "\n",
        "#tensorboard\n",
        "from torch.utils.tensorboard import SummaryWriter\n",
        "writer = SummaryWriter('runs/ford_data_classification')"
      ]
    },
    {
      "cell_type": "code",
      "execution_count": 31,
      "metadata": {
        "id": "rOhKyWuyAPAQ"
      },
      "outputs": [],
      "source": [
        "root_url = \"https://raw.githubusercontent.com/hfawaz/cd-diagram/master/FordA/\""
      ]
    },
    {
      "cell_type": "code",
      "execution_count": 32,
      "metadata": {
        "id": "qlxUatu9APAR"
      },
      "outputs": [],
      "source": [
        "def readucr(filename):\n",
        "    data = np.loadtxt(filename, delimiter=\"\\t\")\n",
        "    y = data[:, 0]\n",
        "    x = data[:, 1:]\n",
        "    return x, y.astype(int)"
      ]
    },
    {
      "cell_type": "code",
      "execution_count": 33,
      "metadata": {
        "id": "JaMO0eMIAPAR"
      },
      "outputs": [],
      "source": [
        "x_train, y_train = readucr(root_url + \"FordA_TRAIN.tsv\")\n",
        "x_test, y_test = readucr(root_url + \"FordA_TEST.tsv\")"
      ]
    },
    {
      "cell_type": "code",
      "execution_count": 34,
      "metadata": {
        "id": "45fhd9KkAPAS"
      },
      "outputs": [],
      "source": [
        "#convert y to 0 and 1\n",
        "y_train[y_train == -1] = 0\n",
        "y_test[y_test == -1] = 0"
      ]
    },
    {
      "cell_type": "code",
      "execution_count": 35,
      "metadata": {
        "id": "s_4bqc3gAPAS"
      },
      "outputs": [],
      "source": [
        "#normalize x\n",
        "x_train = MinMaxScaler().fit_transform(x_train)\n",
        "x_test = MinMaxScaler().fit_transform(x_test)"
      ]
    },
    {
      "cell_type": "code",
      "execution_count": 36,
      "metadata": {
        "id": "a-VfBY30a9v8"
      },
      "outputs": [],
      "source": [
        "#interpolate x\n",
        "length = 100\n",
        "X_train_xgb = np.zeros((x_train.shape[0], length))\n",
        "X_test_xgb = np.zeros((x_test.shape[0], length))\n",
        "for i in range(x_train.shape[0]):\n",
        "    f = interp1d(np.arange(x_train.shape[1]), x_train[i])\n",
        "    X_train_xgb[i] = f(np.linspace(0, x_train.shape[1]-1, length))\n",
        "for i in range(x_test.shape[0]):\n",
        "    f = interp1d(np.arange(x_test.shape[1]), x_test[i])\n",
        "    X_test_xgb[i] = f(np.linspace(0, x_test.shape[1]-1, length))"
      ]
    },
    {
      "cell_type": "code",
      "execution_count": 37,
      "metadata": {
        "id": "l7xAa0Zua9v9",
        "outputId": "83572dec-e6e0-4028-a1ae-9d3855a7861d",
        "colab": {
          "base_uri": "https://localhost:8080/"
        }
      },
      "outputs": [
        {
          "output_type": "execute_result",
          "data": {
            "text/plain": [
              "(3601, 100)"
            ]
          },
          "metadata": {},
          "execution_count": 37
        }
      ],
      "source": [
        "X_train_xgb.shape   "
      ]
    },
    {
      "cell_type": "code",
      "execution_count": 38,
      "metadata": {
        "id": "cMgGZR31a9v-",
        "outputId": "4f71c833-f15c-4735-eeef-c71351ddc88b",
        "colab": {
          "base_uri": "https://localhost:8080/"
        }
      },
      "outputs": [
        {
          "output_type": "execute_result",
          "data": {
            "text/plain": [
              "XGBClassifier(max_depth=10, n_estimators=1000)"
            ]
          },
          "metadata": {},
          "execution_count": 38
        }
      ],
      "source": [
        "#use Xgboost classifier\n",
        "model = XGBClassifier(max_depth=10, n_estimators=1000, learning_rate=0.1)\n",
        "model.fit(X_train_xgb, y_train)"
      ]
    },
    {
      "cell_type": "code",
      "execution_count": 39,
      "metadata": {
        "id": "4F3Te-2Va9v-",
        "outputId": "2746c97b-f3c8-49d7-8431-5b89134d8a11",
        "colab": {
          "base_uri": "https://localhost:8080/"
        }
      },
      "outputs": [
        {
          "output_type": "stream",
          "name": "stdout",
          "text": [
            "Accuracy: 82.35%\n"
          ]
        }
      ],
      "source": [
        "#make predictions for test data\n",
        "y_pred = model.predict(X_test_xgb)\n",
        "#evaluate predictions\n",
        "accuracy = accuracy_score(y_test, y_pred)\n",
        "print(\"Accuracy: %.2f%%\" % (accuracy * 100.0))"
      ]
    },
    {
      "cell_type": "code",
      "execution_count": 40,
      "metadata": {
        "id": "znjC5BePAPAS"
      },
      "outputs": [],
      "source": [
        "#expand dimension\n",
        "x_train = np.expand_dims(x_train, axis=1)\n",
        "x_test = np.expand_dims(x_test, axis=1)"
      ]
    },
    {
      "cell_type": "code",
      "execution_count": 41,
      "metadata": {
        "colab": {
          "base_uri": "https://localhost:8080/"
        },
        "id": "P_Hhh6VhAPAT",
        "outputId": "f8f4e113-28b6-4dc2-9930-83713c1ac50f"
      },
      "outputs": [
        {
          "output_type": "stream",
          "name": "stdout",
          "text": [
            "(3601, 1, 500) (3601,) (1320, 1, 500) (1320,)\n"
          ]
        }
      ],
      "source": [
        "#check shapes\n",
        "print(x_train.shape, y_train.shape, x_test.shape, y_test.shape)"
      ]
    },
    {
      "cell_type": "code",
      "execution_count": 42,
      "metadata": {
        "id": "PkeLUuv7APAU"
      },
      "outputs": [],
      "source": [
        "#convert to torch tensors\n",
        "x_train = torch.from_numpy(x_train).float()\n",
        "y_train = torch.from_numpy(y_train).long()\n",
        "x_test = torch.from_numpy(x_test).float()\n",
        "y_test = torch.from_numpy(y_test).long()"
      ]
    },
    {
      "cell_type": "code",
      "execution_count": 43,
      "metadata": {
        "id": "5vdhvtvZAPAU"
      },
      "outputs": [],
      "source": [
        "#convert to torch dataset\n",
        "train = TensorDataset(x_train, y_train)\n",
        "test = TensorDataset(x_test, y_test)\n",
        "#convert to dataloader\n",
        "train_loader = DataLoader(train, batch_size=64, shuffle=True)\n",
        "test_loader = DataLoader(test, batch_size=64, shuffle=False)"
      ]
    },
    {
      "cell_type": "code",
      "execution_count": 44,
      "metadata": {
        "colab": {
          "base_uri": "https://localhost:8080/"
        },
        "id": "oMX9lXUbAPAV",
        "outputId": "5df28391-4f29-44e5-e11d-94012ea6a375"
      },
      "outputs": [
        {
          "output_type": "stream",
          "name": "stdout",
          "text": [
            "torch.Size([64, 1, 500]) torch.Size([64])\n"
          ]
        }
      ],
      "source": [
        "#check shapes\n",
        "for x, y in train_loader:\n",
        "    print(x.shape, y.shape)\n",
        "    break"
      ]
    },
    {
      "cell_type": "code",
      "execution_count": 53,
      "metadata": {
        "id": "5wTotBrJAPAV"
      },
      "outputs": [],
      "source": [
        "#1D CNN\n",
        "class CNN(nn.Module):\n",
        "    def __init__(self):\n",
        "        super(CNN, self).__init__()\n",
        "        self.sequential_1 = nn.Sequential(\n",
        "            nn.Conv1d(1, 64, 3),\n",
        "            nn.ReLU(),\n",
        "            nn.MaxPool1d(2),\n",
        "            nn.Conv1d(64, 128, 3),\n",
        "            nn.ReLU(),\n",
        "            nn.MaxPool1d(2),\n",
        "            nn.Conv1d(128, 128, 3),\n",
        "            nn.ReLU(),\n",
        "            #global average pooling\n",
        "            nn.AdaptiveAvgPool1d(1)\n",
        "        )\n",
        "        self.sequential_2 = nn.Sequential(\n",
        "            nn.LazyLinear(out_features=128),\n",
        "            nn.ReLU(),\n",
        "            nn.Linear(128, 64),\n",
        "            nn.ReLU(),\n",
        "            nn.Linear(64, 2)\n",
        "        )\n",
        "        \n",
        "    def forward(self, x):\n",
        "        x = self.sequential_1(x)\n",
        "        x = x.view(x.size(0), -1)\n",
        "        x = self.sequential_2(x)\n",
        "        return x"
      ]
    },
    {
      "cell_type": "code",
      "execution_count": 54,
      "metadata": {
        "colab": {
          "base_uri": "https://localhost:8080/"
        },
        "id": "Wl_xz77ZAPAV",
        "outputId": "8c49980a-2a71-42d9-a6a2-54fcb1290623"
      },
      "outputs": [
        {
          "output_type": "stream",
          "name": "stdout",
          "text": [
            "cuda\n"
          ]
        }
      ],
      "source": [
        "device = torch.device(\"cuda\" if torch.cuda.is_available() else \"cpu\")\n",
        "print(device)\n",
        "model = CNN().to(device)"
      ]
    },
    {
      "cell_type": "code",
      "execution_count": 55,
      "metadata": {
        "colab": {
          "base_uri": "https://localhost:8080/"
        },
        "id": "zOfcDr4TAPAW",
        "outputId": "10bc0783-672c-4c51-c72e-33c576c0cdcd"
      },
      "outputs": [
        {
          "output_type": "stream",
          "name": "stdout",
          "text": [
            "torch.Size([64, 2])\n"
          ]
        }
      ],
      "source": [
        "#feed a sample to the model\n",
        "for x, y in train_loader:\n",
        "    x = x.to(device)\n",
        "    print(model(x).shape)\n",
        "    break"
      ]
    },
    {
      "cell_type": "code",
      "execution_count": 56,
      "metadata": {
        "id": "ObnATO41APAW"
      },
      "outputs": [],
      "source": [
        "#loss and optimizer\n",
        "criterion = nn.CrossEntropyLoss()\n",
        "optimizer = optim.Adam(model.parameters(), lr=0.001)"
      ]
    },
    {
      "cell_type": "code",
      "execution_count": 57,
      "metadata": {
        "colab": {
          "base_uri": "https://localhost:8080/"
        },
        "id": "if1o2TyWAPAW",
        "outputId": "a1edb24a-9731-49a4-9c9e-e7f7ac7f79d1"
      },
      "outputs": [
        {
          "output_type": "stream",
          "name": "stdout",
          "text": [
            "Epoch: 0 \tTraining Loss: 0.693797\n",
            "Epoch: 100 \tTraining Loss: 0.211424\n",
            "Epoch: 200 \tTraining Loss: 0.170444\n",
            "Epoch: 300 \tTraining Loss: 0.125387\n",
            "Epoch: 400 \tTraining Loss: 0.065159\n"
          ]
        }
      ],
      "source": [
        "#training\n",
        "n_epochs = 500\n",
        "for epoch in range(n_epochs):\n",
        "    train_loss = 0.0\n",
        "    for x, y in train_loader:\n",
        "        x = x.to(device)\n",
        "        y = y.to(device)\n",
        "        optimizer.zero_grad()\n",
        "        outputs = model(x)\n",
        "        loss = criterion(outputs, y)\n",
        "        loss.backward()\n",
        "        optimizer.step()\n",
        "        train_loss += loss.item() * x.size(0)\n",
        "    train_loss = train_loss / len(train_loader.dataset)\n",
        "    if epoch % 100 == 0:\n",
        "        print(\"Epoch: {} \\tTraining Loss: {:.6f}\".format(epoch, train_loss))\n",
        "    #log loss\n",
        "    writer.add_scalar(\"training loss\", train_loss, epoch)\n",
        "    #log accuracy\n",
        "    correct = 0\n",
        "    total = 0\n",
        "    with torch.no_grad():\n",
        "        for x, y in test_loader:\n",
        "            x = x.to(device)\n",
        "            y = y.to(device)\n",
        "            outputs = model(x)\n",
        "            _, predicted = torch.max(outputs.data, 1)\n",
        "            total += y.size(0)\n",
        "            correct += (predicted == y).sum().item()\n",
        "    accuracy = 100 * correct / total\n",
        "    writer.add_scalar(\"accuracy\", accuracy, epoch)\n",
        "    #close writer\n",
        "    writer.close()"
      ]
    },
    {
      "cell_type": "code",
      "execution_count": 58,
      "metadata": {
        "colab": {
          "base_uri": "https://localhost:8080/"
        },
        "id": "WcHEFX2GAPAX",
        "outputId": "6f50951c-87d6-4fe5-cfe9-56f7bc664632"
      },
      "outputs": [
        {
          "output_type": "stream",
          "name": "stdout",
          "text": [
            "Accuracy: 86.89393939393939 %\n"
          ]
        }
      ],
      "source": [
        "#check the mdodel on test data\n",
        "with torch.no_grad():\n",
        "    correct = 0\n",
        "    total = 0\n",
        "    for x, y in test_loader:\n",
        "        x = x.to(device)\n",
        "        y = y.to(device)\n",
        "        outputs = model(x)\n",
        "        _, predicted = torch.max(outputs.data, 1)\n",
        "        total += y.size(0)\n",
        "        correct += (predicted == y).sum().item()\n",
        "    print(f'Accuracy: {100 * correct / total} %')"
      ]
    },
    {
      "cell_type": "code",
      "execution_count": 50,
      "metadata": {
        "id": "3qOtqNokAPAX"
      },
      "outputs": [],
      "source": []
    }
  ],
  "metadata": {
    "accelerator": "GPU",
    "colab": {
      "provenance": [],
      "include_colab_link": true
    },
    "gpuClass": "standard",
    "kernelspec": {
      "display_name": "Python 3.9.12 ('base')",
      "language": "python",
      "name": "python3"
    },
    "language_info": {
      "codemirror_mode": {
        "name": "ipython",
        "version": 3
      },
      "file_extension": ".py",
      "mimetype": "text/x-python",
      "name": "python",
      "nbconvert_exporter": "python",
      "pygments_lexer": "ipython3",
      "version": "3.9.12"
    },
    "orig_nbformat": 4,
    "vscode": {
      "interpreter": {
        "hash": "7ab6c9a234243e9b1b8e01397e3e97ef7ba16898c560b20da106745d48591deb"
      }
    }
  },
  "nbformat": 4,
  "nbformat_minor": 0
}