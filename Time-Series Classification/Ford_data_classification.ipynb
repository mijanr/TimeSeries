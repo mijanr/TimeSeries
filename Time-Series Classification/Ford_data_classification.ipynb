{
  "cells": [
    {
      "cell_type": "markdown",
      "metadata": {
        "colab_type": "text",
        "id": "view-in-github"
      },
      "source": [
        "<a href=\"https://colab.research.google.com/github/mijanr/TimeSeries/blob/master/Ford_data_classification.ipynb\" target=\"_parent\"><img src=\"https://colab.research.google.com/assets/colab-badge.svg\" alt=\"Open In Colab\"/></a>"
      ]
    },
    {
      "cell_type": "code",
      "execution_count": 270,
      "metadata": {
        "id": "Ghl6lhbFAPAM"
      },
      "outputs": [],
      "source": [
        "import numpy as np\n",
        "import matplotlib.pyplot as plt\n",
        "from sklearn.preprocessing import MinMaxScaler\n",
        "\n",
        "import torch\n",
        "import torch.nn as nn\n",
        "import torch.nn.functional as F\n",
        "import torch.optim as optim\n",
        "from torch.utils.data import DataLoader, TensorDataset\n",
        "\n",
        "from xgboost import XGBClassifier\n",
        "from sklearn.metrics import accuracy_score\n",
        "#1d interpolation\n",
        "from scipy.interpolate import interp1d\n",
        "from tslearn.datasets import UCR_UEA_datasets\n",
        "\n",
        "#tensorboard\n",
        "from torch.utils.tensorboard import SummaryWriter\n",
        "writer = SummaryWriter('runs/ford_data_classification')"
      ]
    },
    {
      "cell_type": "code",
      "execution_count": 271,
      "metadata": {
        "id": "rOhKyWuyAPAQ"
      },
      "outputs": [],
      "source": [
        "dataset_name = 'FordA'"
      ]
    },
    {
      "cell_type": "code",
      "execution_count": 272,
      "metadata": {
        "id": "qlxUatu9APAR"
      },
      "outputs": [],
      "source": [
        "#load dataset using tslearn\n",
        "data_loader = UCR_UEA_datasets()\n",
        "X_train, y_train, X_test, y_test  = data_loader.load_dataset(dataset_name)"
      ]
    },
    {
      "cell_type": "code",
      "execution_count": 273,
      "metadata": {},
      "outputs": [
        {
          "data": {
            "text/plain": [
              "((3601, 500, 1), (3601,), (1320, 500, 1), (1320,))"
            ]
          },
          "execution_count": 273,
          "metadata": {},
          "output_type": "execute_result"
        }
      ],
      "source": [
        "X_train.shape, y_train.shape, X_test.shape, y_test.shape"
      ]
    },
    {
      "cell_type": "code",
      "execution_count": 274,
      "metadata": {
        "id": "45fhd9KkAPAS"
      },
      "outputs": [],
      "source": [
        "#convert y to 0 and 1\n",
        "y_train[y_train == -1] = 0\n",
        "y_test[y_test == -1] = 0"
      ]
    },
    {
      "cell_type": "code",
      "execution_count": 275,
      "metadata": {
        "id": "s_4bqc3gAPAS"
      },
      "outputs": [],
      "source": [
        "# #normalize data\n",
        "# X_train = (X_train - X_train.min()) / (X_train.max() - X_train.min())\n",
        "# X_test = (X_test - X_test.min()) / (X_test.max() - X_test.min())"
      ]
    },
    {
      "cell_type": "code",
      "execution_count": 276,
      "metadata": {},
      "outputs": [],
      "source": [
        "#interpolate data\n",
        "length = 100\n",
        "def interpolate(X, length):\n",
        "    X_interpolated = []\n",
        "    for i in range(X.shape[0]):\n",
        "        x = np.linspace(0, 1, X.shape[1])\n",
        "        f = interp1d(x, X[i], axis=0)\n",
        "        xnew = np.linspace(0, 1, length)\n",
        "        ynew = f(xnew)\n",
        "        X_interpolated.append(ynew)\n",
        "    return np.array(X_interpolated)"
      ]
    },
    {
      "cell_type": "code",
      "execution_count": 277,
      "metadata": {},
      "outputs": [],
      "source": [
        "X_train = interpolate(X_train, length)\n",
        "X_test = interpolate(X_test, length)"
      ]
    },
    {
      "cell_type": "code",
      "execution_count": 278,
      "metadata": {
        "id": "PkeLUuv7APAU"
      },
      "outputs": [],
      "source": [
        "#convert to torch tensors\n",
        "X_train = torch.from_numpy(X_train).float()\n",
        "y_train = torch.from_numpy(y_train).long()\n",
        "X_test = torch.from_numpy(X_test).float()\n",
        "y_test = torch.from_numpy(y_test).long()"
      ]
    },
    {
      "cell_type": "code",
      "execution_count": 279,
      "metadata": {
        "id": "5vdhvtvZAPAU"
      },
      "outputs": [],
      "source": [
        "#convert to torch dataset\n",
        "train_dataset = TensorDataset(X_train, y_train)\n",
        "test_dataset = TensorDataset(X_test, y_test)\n",
        "#convert to dataloader\n",
        "train_loader = DataLoader(train_dataset, batch_size=64, shuffle=True)\n",
        "test_loader = DataLoader(test_dataset, batch_size=64, shuffle=False)"
      ]
    },
    {
      "cell_type": "code",
      "execution_count": 280,
      "metadata": {
        "colab": {
          "base_uri": "https://localhost:8080/"
        },
        "id": "oMX9lXUbAPAV",
        "outputId": "5df28391-4f29-44e5-e11d-94012ea6a375"
      },
      "outputs": [
        {
          "name": "stdout",
          "output_type": "stream",
          "text": [
            "torch.Size([64, 64, 1]) torch.Size([64])\n"
          ]
        }
      ],
      "source": [
        "#check shapes\n",
        "for x, y in train_loader:\n",
        "    print(x.shape, y.shape)\n",
        "    break"
      ]
    },
    {
      "cell_type": "code",
      "execution_count": 281,
      "metadata": {
        "id": "5wTotBrJAPAV"
      },
      "outputs": [],
      "source": [
        "#1D CNN\n",
        "class CNN(nn.Module):\n",
        "    def __init__(self):\n",
        "        super(CNN, self).__init__()\n",
        "        self.sequential_1 = nn.Sequential(\n",
        "            nn.Conv1d(1, 64, 3),\n",
        "            nn.ReLU(),\n",
        "            nn.MaxPool1d(2),\n",
        "            nn.Conv1d(64, 128, 3),\n",
        "            nn.ReLU(),\n",
        "            nn.MaxPool1d(2),\n",
        "            nn.Conv1d(128, 128, 3),\n",
        "            nn.ReLU(),\n",
        "            #global average pooling\n",
        "            nn.AdaptiveAvgPool1d(1)\n",
        "        )\n",
        "        self.sequential_2 = nn.Sequential(\n",
        "            nn.LazyLinear(out_features=128),\n",
        "            nn.ReLU(),\n",
        "            nn.Linear(128, 64),\n",
        "            nn.ReLU(),\n",
        "            nn.Linear(64, 2)\n",
        "        )\n",
        "        \n",
        "    def forward(self, x):\n",
        "        x = x.permute(0, 2, 1)\n",
        "        x = self.sequential_1(x)\n",
        "        x = x.view(x.size(0), -1)\n",
        "        x = self.sequential_2(x)\n",
        "        return x\n",
        "#LSTM\n",
        "class LSTM(nn.Module):\n",
        "    def __init__(self):\n",
        "        super(LSTM, self).__init__()\n",
        "        self.lstm = nn.LSTM(input_size=1, hidden_size=64, num_layers=3, batch_first=True)\n",
        "        self.sequential = nn.Linear(64, 2)\n",
        "        \n",
        "    def forward(self, x):\n",
        "        x, _ = self.lstm(x)\n",
        "        x = x[:, -1, :]\n",
        "        x = self.sequential(x)\n",
        "        return nn.functional.log_softmax(x, dim=1)\n",
        "    "
      ]
    },
    {
      "cell_type": "code",
      "execution_count": 282,
      "metadata": {
        "colab": {
          "base_uri": "https://localhost:8080/"
        },
        "id": "Wl_xz77ZAPAV",
        "outputId": "8c49980a-2a71-42d9-a6a2-54fcb1290623"
      },
      "outputs": [
        {
          "name": "stdout",
          "output_type": "stream",
          "text": [
            "cuda\n"
          ]
        }
      ],
      "source": [
        "device = torch.device(\"cuda\" if torch.cuda.is_available() else \"cpu\")\n",
        "print(device)"
      ]
    },
    {
      "cell_type": "code",
      "execution_count": 283,
      "metadata": {},
      "outputs": [],
      "source": [
        "#CNN\n",
        "model = CNN().to(device)\n",
        "#LSTM\n",
        "#model = LSTM().to(device)"
      ]
    },
    {
      "cell_type": "code",
      "execution_count": 284,
      "metadata": {
        "colab": {
          "base_uri": "https://localhost:8080/"
        },
        "id": "zOfcDr4TAPAW",
        "outputId": "10bc0783-672c-4c51-c72e-33c576c0cdcd"
      },
      "outputs": [
        {
          "name": "stdout",
          "output_type": "stream",
          "text": [
            "torch.Size([64, 2])\n"
          ]
        }
      ],
      "source": [
        "#feed a sample to the model\n",
        "for x, y in train_loader:\n",
        "    x = x.to(device)\n",
        "    print(model(x).shape)\n",
        "    break"
      ]
    },
    {
      "cell_type": "code",
      "execution_count": 285,
      "metadata": {
        "id": "ObnATO41APAW"
      },
      "outputs": [],
      "source": [
        "#loss and optimizer\n",
        "criterion = nn.CrossEntropyLoss()\n",
        "optimizer = optim.Adam(model.parameters(), lr=0.001)"
      ]
    },
    {
      "cell_type": "code",
      "execution_count": 286,
      "metadata": {
        "colab": {
          "base_uri": "https://localhost:8080/"
        },
        "id": "if1o2TyWAPAW",
        "outputId": "a1edb24a-9731-49a4-9c9e-e7f7ac7f79d1"
      },
      "outputs": [
        {
          "name": "stdout",
          "output_type": "stream",
          "text": [
            "Epoch: 0 \tTraining Loss: 0.543900\n",
            "Epoch: 10 \tTraining Loss: 0.350338\n",
            "Epoch: 20 \tTraining Loss: 0.206480\n",
            "Epoch: 30 \tTraining Loss: 0.016042\n",
            "Epoch: 40 \tTraining Loss: 0.041306\n",
            "Epoch: 50 \tTraining Loss: 0.000032\n",
            "Epoch: 60 \tTraining Loss: 0.000020\n",
            "Epoch: 70 \tTraining Loss: 0.000011\n",
            "Epoch: 80 \tTraining Loss: 0.000009\n",
            "Epoch: 90 \tTraining Loss: 0.000000\n"
          ]
        }
      ],
      "source": [
        "#training\n",
        "n_epochs = 100\n",
        "for epoch in range(n_epochs):\n",
        "    for i, (data, target) in enumerate(train_loader):\n",
        "        data = data.to(device)\n",
        "        target = target.to(device)\n",
        "        optimizer.zero_grad()\n",
        "        output = model(data)\n",
        "        loss = criterion(output, target)\n",
        "        loss.backward()\n",
        "        optimizer.step()\n",
        "    #print loss\n",
        "    if epoch % 10 == 0:\n",
        "        print('Epoch: {} \\tTraining Loss: {:.6f}'.format(epoch, loss.item()))\n",
        "        #writer.add_scalar('training loss', loss.item(), epoch)\n",
        " "
      ]
    },
    {
      "cell_type": "code",
      "execution_count": 287,
      "metadata": {
        "colab": {
          "base_uri": "https://localhost:8080/"
        },
        "id": "WcHEFX2GAPAX",
        "outputId": "6f50951c-87d6-4fe5-cfe9-56f7bc664632"
      },
      "outputs": [
        {
          "name": "stdout",
          "output_type": "stream",
          "text": [
            "Accuracy: 90.68181818181819 %\n"
          ]
        }
      ],
      "source": [
        "#check the mdodel on test data\n",
        "with torch.no_grad():\n",
        "    correct = 0\n",
        "    total = 0\n",
        "    for x, y in test_loader:\n",
        "        x = x.to(device)\n",
        "        y = y.to(device)\n",
        "        outputs = model(x)\n",
        "        _, predicted = torch.max(outputs.data, 1)\n",
        "        total += y.size(0)\n",
        "        correct += (predicted == y).sum().item()\n",
        "    print(f'Accuracy: {100 * correct / total} %')"
      ]
    },
    {
      "cell_type": "code",
      "execution_count": null,
      "metadata": {},
      "outputs": [],
      "source": []
    },
    {
      "cell_type": "code",
      "execution_count": null,
      "metadata": {
        "id": "3qOtqNokAPAX"
      },
      "outputs": [],
      "source": []
    }
  ],
  "metadata": {
    "accelerator": "GPU",
    "colab": {
      "include_colab_link": true,
      "provenance": []
    },
    "gpuClass": "standard",
    "kernelspec": {
      "display_name": "Python 3.9.7 ('base')",
      "language": "python",
      "name": "python3"
    },
    "language_info": {
      "codemirror_mode": {
        "name": "ipython",
        "version": 3
      },
      "file_extension": ".py",
      "mimetype": "text/x-python",
      "name": "python",
      "nbconvert_exporter": "python",
      "pygments_lexer": "ipython3",
      "version": "3.9.7"
    },
    "orig_nbformat": 4,
    "vscode": {
      "interpreter": {
        "hash": "7b9bf3d753fefe854781e52229fcc2b6d37fd5cec0eed166290fc2ac2cd3389d"
      }
    }
  },
  "nbformat": 4,
  "nbformat_minor": 0
}
