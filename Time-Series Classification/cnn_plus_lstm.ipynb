{
 "cells": [
  {
   "cell_type": "code",
   "execution_count": 67,
   "metadata": {},
   "outputs": [],
   "source": [
    "# Import necessary modules\n",
    "import torch\n",
    "import torch.nn as nn\n",
    "from torch.utils.data import DataLoader\n",
    "from torch.optim import Adam\n",
    "\n",
    "import numpy as np\n",
    "import matplotlib.pyplot as plt\n",
    "from sklearn.metrics import accuracy_score\n",
    "import tslearn\n",
    "from tslearn.datasets import UCR_UEA_datasets\n",
    "from tslearn.preprocessing import TimeSeriesScalerMeanVariance, TimeSeriesResampler, TimeSeriesScalerMinMax"
   ]
  },
  {
   "cell_type": "code",
   "execution_count": 68,
   "metadata": {},
   "outputs": [],
   "source": [
    "dataset_name = 'ElectricDevices'"
   ]
  },
  {
   "cell_type": "code",
   "execution_count": 69,
   "metadata": {},
   "outputs": [],
   "source": [
    "# Load and preprocess the time series data\n",
    "X_train, y_train, X_test, y_test = UCR_UEA_datasets().load_dataset(dataset_name)"
   ]
  },
  {
   "cell_type": "code",
   "execution_count": 70,
   "metadata": {},
   "outputs": [
    {
     "data": {
      "text/plain": [
       "((8926, 96, 1), (8926,), (7711, 96, 1), (7711,))"
      ]
     },
     "execution_count": 70,
     "metadata": {},
     "output_type": "execute_result"
    }
   ],
   "source": [
    "X_train.shape, y_train.shape, X_test.shape, y_test.shape"
   ]
  },
  {
   "cell_type": "code",
   "execution_count": 71,
   "metadata": {},
   "outputs": [],
   "source": [
    "#normalize the data\n",
    "X_train = TimeSeriesScalerMinMax().fit_transform(X_train)\n",
    "X_test = TimeSeriesScalerMinMax().fit_transform(X_test)"
   ]
  },
  {
   "cell_type": "code",
   "execution_count": 72,
   "metadata": {},
   "outputs": [],
   "source": [
    "# Resample the data to 128 time steps\n",
    "X_train = TimeSeriesResampler(sz=128).fit_transform(X_train)\n",
    "X_test = TimeSeriesResampler(sz=128).fit_transform(X_test)"
   ]
  },
  {
   "cell_type": "code",
   "execution_count": 73,
   "metadata": {},
   "outputs": [],
   "source": [
    "# Convert the data to torch tensors\n",
    "X_train = torch.from_numpy(X_train).float()\n",
    "X_test = torch.from_numpy(X_test).float()\n",
    "y_train = torch.from_numpy(y_train).long()\n",
    "y_test = torch.from_numpy(y_test).long()"
   ]
  },
  {
   "cell_type": "code",
   "execution_count": 74,
   "metadata": {},
   "outputs": [],
   "source": [
    "#start class from 0\n",
    "y_train = y_train - 1\n",
    "y_test = y_test - 1"
   ]
  },
  {
   "cell_type": "code",
   "execution_count": 75,
   "metadata": {},
   "outputs": [],
   "source": [
    "#Datasets\n",
    "train_dataset = torch.utils.data.TensorDataset(X_train, y_train)\n",
    "test_dataset = torch.utils.data.TensorDataset(X_test, y_test)\n",
    "#Dataloaders\n",
    "train_loader = DataLoader(train_dataset, batch_size=64, shuffle=True)\n",
    "test_loader = DataLoader(test_dataset, batch_size=64, shuffle=False)"
   ]
  },
  {
   "cell_type": "code",
   "execution_count": 76,
   "metadata": {},
   "outputs": [],
   "source": [
    "# Define the CNN model\n",
    "class CNN(nn.Module):\n",
    "    def __init__(self, input_size, num_classes):\n",
    "        super(CNN, self).__init__()\n",
    "        self.sequential = nn.Sequential(\n",
    "            nn.Conv1d(in_channels=input_size, out_channels=64, kernel_size=3, stride=1, padding=1),\n",
    "            nn.BatchNorm1d(64),\n",
    "            nn.ReLU(),\n",
    "            nn.AvgPool1d(kernel_size=2, stride=2),\n",
    "            nn.Conv1d(in_channels=64, out_channels=128, kernel_size=3, stride=1, padding=1),\n",
    "            nn.BatchNorm1d(128),\n",
    "            nn.ReLU(),\n",
    "            #flatten\n",
    "            nn.Flatten(),\n",
    "            nn.LazyLinear(out_features=128),\n",
    "            nn.ReLU(),\n",
    "            nn.Dropout(0.5),\n",
    "            nn.Linear(in_features=128, out_features=num_classes)\n",
    "        )\n",
    "    def forward(self, x):\n",
    "        x = x.permute(0, 2, 1)\n",
    "        x = self.sequential(x)\n",
    "        return x"
   ]
  },
  {
   "cell_type": "code",
   "execution_count": 80,
   "metadata": {},
   "outputs": [],
   "source": [
    "# Define the LSTM model\n",
    "class LSTM(nn.Module):\n",
    "    def __init__(self, input_size, num_classes):\n",
    "        super(LSTM, self).__init__()\n",
    "        self.lstm = nn.LSTM(input_size=input_size, hidden_size=64, num_layers=2, batch_first=True)\n",
    "        self.fc = nn.Linear(in_features=64, out_features=num_classes)\n",
    "    def forward(self, x):\n",
    "        x, _ = self.lstm(x)\n",
    "        x = self.fc(x[:, -1, :])\n",
    "        return x"
   ]
  },
  {
   "cell_type": "code",
   "execution_count": 83,
   "metadata": {},
   "outputs": [],
   "source": [
    "# Define the combined CNN-LSTM model\n",
    "class CNN_LSTM(nn.Module):\n",
    "    def __init__(self, input_size, num_classes):\n",
    "        super(CNN_LSTM, self).__init__()\n",
    "        self.cnn = CNN(input_size, num_classes)\n",
    "        self.lstm = LSTM(input_size, num_classes)\n",
    "        self.fc = nn.Linear(in_features=2*num_classes, out_features=num_classes)\n",
    "    def forward(self, x):\n",
    "        x1 = self.cnn(x)\n",
    "        x2 = self.lstm(x)\n",
    "        x = torch.cat((x1, x2), dim=1)\n",
    "        x = self.fc(x)\n",
    "        return x"
   ]
  },
  {
   "cell_type": "code",
   "execution_count": 90,
   "metadata": {},
   "outputs": [
    {
     "name": "stdout",
     "output_type": "stream",
     "text": [
      "cpu\n"
     ]
    }
   ],
   "source": [
    "device = torch.device('cuda' if torch.cuda.is_available() else 'cpu')\n",
    "print(device)"
   ]
  },
  {
   "cell_type": "code",
   "execution_count": 92,
   "metadata": {},
   "outputs": [],
   "source": [
    "#cnn\n",
    "input_size = X_train.shape[-1]\n",
    "num_classes = len(np.unique(y_train))\n",
    "model_cnn = CNN(input_size, num_classes).to(device)\n",
    "#lstm\n",
    "model_lstm = LSTM(input_size, num_classes).to(device)\n",
    "#cnn_lstm\n",
    "model_cnn_lstm = CNN_LSTM(input_size, num_classes).to(device)"
   ]
  },
  {
   "cell_type": "code",
   "execution_count": 94,
   "metadata": {},
   "outputs": [],
   "source": [
    "from typing import List"
   ]
  },
  {
   "cell_type": "code",
   "execution_count": 110,
   "metadata": {},
   "outputs": [],
   "source": [
    "def train(models:List, train_loader:DataLoader, epochs:int):\n",
    "    criterion = nn.CrossEntropyLoss()\n",
    "    for model in models:\n",
    "        print(\"Training model: \", model.__class__.__name__)\n",
    "        model.train()\n",
    "        optimizer = Adam(model.parameters(), lr=0.001)\n",
    "        for epoch in range(epochs):\n",
    "            for i, (x, y) in enumerate(train_loader):\n",
    "                x = x.to(device)\n",
    "                y = y.to(device)\n",
    "                optimizer.zero_grad()\n",
    "                y_pred = model(x)\n",
    "                loss = criterion(y_pred, y)\n",
    "                loss.backward()\n",
    "                optimizer.step()\n",
    "                if (i+1) % 10 == 0:\n",
    "                    print(f'Epoch [{epoch+1}/{epochs}], Step [{i+1}/{len(train_loader)}], Loss: {loss.item():.4f}')\n",
    "        print(\"Training completed for model: \", model.__class__.__name__)\n",
    "    #save models\n",
    "    torch.save(model_cnn.state_dict(), 'model_cnn.pth')\n",
    "    torch.save(model_lstm.state_dict(), 'model_lstm.pth')\n",
    "    torch.save(model_cnn_lstm.state_dict(), 'model_cnn_lstm.pth')\n",
    "    print('Models saved!')"
   ]
  },
  {
   "cell_type": "code",
   "execution_count": 111,
   "metadata": {},
   "outputs": [
    {
     "name": "stdout",
     "output_type": "stream",
     "text": [
      "Training model:  CNN\n",
      "Epoch [1/1], Step [10/140], Loss: 0.7387\n",
      "Epoch [1/1], Step [20/140], Loss: 0.8917\n",
      "Epoch [1/1], Step [30/140], Loss: 0.7619\n",
      "Epoch [1/1], Step [40/140], Loss: 0.6439\n",
      "Epoch [1/1], Step [50/140], Loss: 0.6534\n",
      "Epoch [1/1], Step [60/140], Loss: 0.8272\n",
      "Epoch [1/1], Step [70/140], Loss: 0.8498\n",
      "Epoch [1/1], Step [80/140], Loss: 1.1424\n",
      "Epoch [1/1], Step [90/140], Loss: 0.8256\n",
      "Epoch [1/1], Step [100/140], Loss: 0.6804\n",
      "Epoch [1/1], Step [110/140], Loss: 0.7685\n",
      "Epoch [1/1], Step [120/140], Loss: 0.9463\n",
      "Epoch [1/1], Step [130/140], Loss: 0.9444\n",
      "Epoch [1/1], Step [140/140], Loss: 0.7558\n",
      "Training completed for model:  CNN\n",
      "Training model:  LSTM\n",
      "Epoch [1/1], Step [10/140], Loss: 1.4430\n",
      "Epoch [1/1], Step [20/140], Loss: 1.4108\n",
      "Epoch [1/1], Step [30/140], Loss: 1.4844\n",
      "Epoch [1/1], Step [40/140], Loss: 1.8868\n",
      "Epoch [1/1], Step [50/140], Loss: 1.6929\n",
      "Epoch [1/1], Step [60/140], Loss: 1.4708\n",
      "Epoch [1/1], Step [70/140], Loss: 1.5746\n",
      "Epoch [1/1], Step [80/140], Loss: 1.2849\n",
      "Epoch [1/1], Step [90/140], Loss: 1.3372\n",
      "Epoch [1/1], Step [100/140], Loss: 1.4087\n",
      "Epoch [1/1], Step [110/140], Loss: 1.4370\n",
      "Epoch [1/1], Step [120/140], Loss: 1.6826\n",
      "Epoch [1/1], Step [130/140], Loss: 1.8301\n",
      "Epoch [1/1], Step [140/140], Loss: 1.5351\n",
      "Training completed for model:  LSTM\n",
      "Training model:  CNN_LSTM\n",
      "Epoch [1/1], Step [10/140], Loss: 1.2562\n",
      "Epoch [1/1], Step [20/140], Loss: 1.3481\n",
      "Epoch [1/1], Step [30/140], Loss: 1.0031\n",
      "Epoch [1/1], Step [40/140], Loss: 0.8534\n",
      "Epoch [1/1], Step [50/140], Loss: 0.9211\n",
      "Epoch [1/1], Step [60/140], Loss: 0.9827\n",
      "Epoch [1/1], Step [70/140], Loss: 0.9759\n",
      "Epoch [1/1], Step [80/140], Loss: 0.9358\n",
      "Epoch [1/1], Step [90/140], Loss: 0.7560\n",
      "Epoch [1/1], Step [100/140], Loss: 0.9519\n",
      "Epoch [1/1], Step [110/140], Loss: 0.8795\n",
      "Epoch [1/1], Step [120/140], Loss: 0.7866\n",
      "Epoch [1/1], Step [130/140], Loss: 0.5989\n",
      "Epoch [1/1], Step [140/140], Loss: 0.6024\n",
      "Training completed for model:  CNN_LSTM\n",
      "Models saved!\n"
     ]
    }
   ],
   "source": [
    "#train\n",
    "models = [model_cnn, model_lstm, model_cnn_lstm]\n",
    "train(models, train_loader, epochs=1)"
   ]
  },
  {
   "cell_type": "code",
   "execution_count": 121,
   "metadata": {},
   "outputs": [],
   "source": [
    "#test\n",
    "def test(models, test_loader):\n",
    "    with torch.no_grad():\n",
    "        correct = 0\n",
    "        total = 0\n",
    "        for model in models:\n",
    "            model.eval()\n",
    "            for x, y in test_loader:\n",
    "                x = x.to(device)\n",
    "                y = y.to(device)\n",
    "                y_pred = model(x)\n",
    "                _, predicted = torch.max(y_pred.data, 1)\n",
    "                total += y.size(0)\n",
    "                correct += (predicted == y).sum().item()\n",
    "            print(f'Accuracy of the {model.__class__.__name__} model on the test set: {100 * correct / total:.2f} %')"
   ]
  },
  {
   "cell_type": "code",
   "execution_count": 122,
   "metadata": {},
   "outputs": [
    {
     "name": "stdout",
     "output_type": "stream",
     "text": [
      "Accuracy of the CNN model on the test set: 63.27 %\n",
      "Accuracy of the LSTM model on the test set: 46.34 %\n",
      "Accuracy of the CNN_LSTM model on the test set: 52.86 %\n"
     ]
    }
   ],
   "source": [
    "test(models, test_loader)"
   ]
  },
  {
   "cell_type": "code",
   "execution_count": null,
   "metadata": {},
   "outputs": [],
   "source": []
  }
 ],
 "metadata": {
  "kernelspec": {
   "display_name": "Python 3.9.15 ('pytorch')",
   "language": "python",
   "name": "python3"
  },
  "language_info": {
   "codemirror_mode": {
    "name": "ipython",
    "version": 3
   },
   "file_extension": ".py",
   "mimetype": "text/x-python",
   "name": "python",
   "nbconvert_exporter": "python",
   "pygments_lexer": "ipython3",
   "version": "3.9.15"
  },
  "orig_nbformat": 4,
  "vscode": {
   "interpreter": {
    "hash": "77f0ac4a1ff910c6f832be6ab53afe92115f75471ff7ffff1273b50351d0e386"
   }
  }
 },
 "nbformat": 4,
 "nbformat_minor": 2
}
