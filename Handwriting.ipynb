{
  "cells": [
    {
      "cell_type": "markdown",
      "metadata": {
        "id": "view-in-github",
        "colab_type": "text"
      },
      "source": [
        "<a href=\"https://colab.research.google.com/github/mijanr/TimeSeries/blob/master/Handwriting.ipynb\" target=\"_parent\"><img src=\"https://colab.research.google.com/assets/colab-badge.svg\" alt=\"Open In Colab\"/></a>"
      ]
    },
    {
      "cell_type": "code",
      "execution_count": 180,
      "metadata": {
        "id": "6hsRMSVM4MeK"
      },
      "outputs": [],
      "source": [
        "import numpy as np\n",
        "import matplotlib.pyplot as plt\n",
        "from sklearn.preprocessing import MinMaxScaler\n",
        "\n",
        "import torch\n",
        "import torch.nn as nn\n",
        "import torch.nn.functional as F\n",
        "import torch.optim as optim\n",
        "from torch.utils.data import DataLoader, TensorDataset\n",
        "\n",
        "from xgboost import XGBClassifier\n",
        "from sklearn.metrics import accuracy_score\n",
        "from sklearn.preprocessing import LabelEncoder\n",
        "\n",
        "from sktime.datasets import load_UCR_UEA_dataset\n",
        "from tslearn.datasets import UCR_UEA_datasets\n",
        "\n",
        "#1d interpolation\n",
        "from scipy.interpolate import interp1d\n",
        "\n",
        "#tensorboard\n",
        "from torch.utils.tensorboard import SummaryWriter\n",
        "writer = SummaryWriter('runs/ChlorineConcentration')"
      ]
    },
    {
      "cell_type": "code",
      "execution_count": 181,
      "metadata": {
        "id": "kkgPf-8j4MeO"
      },
      "outputs": [],
      "source": [
        "dataset_name = 'Handwriting'"
      ]
    },
    {
      "cell_type": "code",
      "execution_count": 182,
      "metadata": {
        "id": "JHT5UhP94MeP"
      },
      "outputs": [],
      "source": [
        "#load dataset using tslearn\n",
        "data_loader = UCR_UEA_datasets()\n",
        "X_train, y_train, X_test, y_test  = data_loader.load_dataset(dataset_name)"
      ]
    },
    {
      "cell_type": "code",
      "execution_count": 183,
      "metadata": {
        "colab": {
          "base_uri": "https://localhost:8080/"
        },
        "id": "sK_0bZHS4MeP",
        "outputId": "ae37d329-4f78-4ddd-fe24-dcb726e0df67"
      },
      "outputs": [
        {
          "output_type": "execute_result",
          "data": {
            "text/plain": [
              "((150, 152, 3), (150,), (850, 152, 3), (850,))"
            ]
          },
          "metadata": {},
          "execution_count": 183
        }
      ],
      "source": [
        "X_train.shape, y_train.shape, X_test.shape, y_test.shape"
      ]
    },
    {
      "cell_type": "code",
      "execution_count": 184,
      "metadata": {
        "id": "gvd2cPR34MeQ"
      },
      "outputs": [],
      "source": [
        "#encode labels\n",
        "le = LabelEncoder()\n",
        "y_train = le.fit_transform(y_train)\n",
        "y_test = le.transform(y_test)"
      ]
    },
    {
      "cell_type": "code",
      "source": [
        "#interpolate data\n",
        "length = 64\n",
        "def interpolate(X, length):\n",
        "    X_interpolated = []\n",
        "    for i in range(X.shape[0]):\n",
        "        x = np.linspace(0, 1, X.shape[1])\n",
        "        f = interp1d(x, X[i], axis=0)\n",
        "        xnew = np.linspace(0, 1, length)\n",
        "        ynew = f(xnew)\n",
        "        X_interpolated.append(ynew)\n",
        "    return np.array(X_interpolated)"
      ],
      "metadata": {
        "id": "2XiSbHRg7-Fl"
      },
      "execution_count": 185,
      "outputs": []
    },
    {
      "cell_type": "code",
      "source": [
        "X_interpolated_train = interpolate(X_train, length)\n",
        "X_interpolated_test = interpolate(X_test, length)"
      ],
      "metadata": {
        "id": "9nqlWQ2R7_Vm"
      },
      "execution_count": 186,
      "outputs": []
    },
    {
      "cell_type": "code",
      "execution_count": 187,
      "metadata": {
        "id": "Fdkg6fwi4MeQ"
      },
      "outputs": [],
      "source": [
        "#torch tensor\n",
        "X_train = torch.tensor(X_train, dtype=torch.float32)\n",
        "y_train = torch.tensor(y_train, dtype=torch.long)\n",
        "X_test = torch.tensor(X_test, dtype=torch.float32)\n",
        "y_test = torch.tensor(y_test, dtype=torch.long)"
      ]
    },
    {
      "cell_type": "code",
      "source": [
        "#normalize data\n",
        "X_train = (X_train - X_train.min()) / (X_train.max() - X_train.min())\n",
        "X_test = (X_test - X_test.min()) / (X_test.max() - X_test.min())"
      ],
      "metadata": {
        "id": "nO0aGTMJ5op2"
      },
      "execution_count": 188,
      "outputs": []
    },
    {
      "cell_type": "code",
      "execution_count": 189,
      "metadata": {
        "id": "hq7mnzCi4MeQ"
      },
      "outputs": [],
      "source": [
        "#datasets\n",
        "train_dataset = TensorDataset(X_train, y_train)\n",
        "test_dataset = TensorDataset(X_test, y_test)\n",
        "#dataloaders\n",
        "train_loader = DataLoader(train_dataset, batch_size=64, shuffle=True)\n",
        "test_loader = DataLoader(test_dataset, batch_size=64, shuffle=False)"
      ]
    },
    {
      "cell_type": "code",
      "execution_count": 190,
      "metadata": {
        "colab": {
          "base_uri": "https://localhost:8080/"
        },
        "id": "BuPlxUgc4MeR",
        "outputId": "3ae6019d-4db4-4eb0-8cc9-53c2b0b289f7"
      },
      "outputs": [
        {
          "output_type": "execute_result",
          "data": {
            "text/plain": [
              "(torch.Size([150, 152, 3]),\n",
              " torch.Size([150]),\n",
              " torch.Size([850, 152, 3]),\n",
              " torch.Size([850]))"
            ]
          },
          "metadata": {},
          "execution_count": 190
        }
      ],
      "source": [
        "X_train.shape, y_train.shape, X_test.shape, y_test.shape"
      ]
    },
    {
      "cell_type": "code",
      "execution_count": 191,
      "metadata": {
        "id": "9lgJwCrO4MeS"
      },
      "outputs": [],
      "source": [
        "#CNN model\n",
        "class CNN(nn.Module):\n",
        "    def __init__(self, input_size, num_classes):\n",
        "        super(CNN, self).__init__()\n",
        "        self.sequential_1 = nn.Sequential(\n",
        "            nn.Conv1d(in_channels=input_size, out_channels=16, kernel_size=3, stride=1, padding=1),\n",
        "            nn.BatchNorm1d(16),\n",
        "            nn.ReLU(),\n",
        "            nn.MaxPool1d(kernel_size=2, stride=2),\n",
        "            nn.Conv1d(in_channels=16, out_channels=32, kernel_size=3, stride=1, padding=1),\n",
        "            nn.BatchNorm1d(32),\n",
        "            nn.ReLU(),\n",
        "            #global average pooling\n",
        "            nn.AdaptiveAvgPool1d(1)\n",
        "        )\n",
        "        self.sequential_2 = nn.Sequential(\n",
        "            nn.LazyLinear(out_features=128),\n",
        "            nn.ReLU(),\n",
        "            #nn.Dropout(0.2),\n",
        "            nn.Linear(in_features=128, out_features=num_classes)\n",
        "        )\n",
        "    def forward(self, x):\n",
        "        #swap axes\n",
        "        x = x.permute(0, 2, 1)\n",
        "        x = self.sequential_1(x)\n",
        "        x = x.reshape(x.shape[0], -1)\n",
        "        x = self.sequential_2(x)\n",
        "        return x\n",
        "#LSM model\n",
        "class LSTM(nn.Module):\n",
        "    def __init__(self, input_size, hidden_size, num_layers, num_classes):\n",
        "        super(LSTM, self).__init__()\n",
        "        self.hidden_size = hidden_size\n",
        "        self.num_layers = num_layers\n",
        "        self.lstm = nn.LSTM(input_size, hidden_size, num_layers, batch_first=True)\n",
        "        self.fc = nn.Linear(hidden_size, num_classes)\n",
        "        self.device = torch.device('cuda' if torch.cuda.is_available() else 'cpu')\n",
        "    def forward(self, x):\n",
        "        #set initial states\n",
        "        h0 = torch.zeros(self.num_layers, x.size(0), self.hidden_size).to(device)\n",
        "        c0 = torch.zeros(self.num_layers, x.size(0), self.hidden_size).to(device)\n",
        "        #forward propagate LSTM\n",
        "        out, _ = self.lstm(x, (h0, c0))\n",
        "        #decode the hidden state of the last time step\n",
        "        out = self.fc(out[:, -1, :])\n",
        "        return out"
      ]
    },
    {
      "cell_type": "code",
      "execution_count": 192,
      "metadata": {
        "colab": {
          "base_uri": "https://localhost:8080/"
        },
        "id": "vR8bRugf4MeT",
        "outputId": "4fae603c-8804-44c9-adb0-e51b81481225"
      },
      "outputs": [
        {
          "output_type": "stream",
          "name": "stdout",
          "text": [
            "cuda\n"
          ]
        }
      ],
      "source": [
        "device = torch.device('cuda' if torch.cuda.is_available() else 'cpu')\n",
        "print(device)"
      ]
    },
    {
      "cell_type": "code",
      "execution_count": 193,
      "metadata": {
        "id": "tfCdFdo34MeT"
      },
      "outputs": [],
      "source": [
        "#cnn model\n",
        "input_size = X_train.shape[-1]\n",
        "num_classes = len(np.unique(y_train))\n",
        "model = CNN(input_size, num_classes).to(device)\n",
        "# lstm model\n",
        "# input_size = X_train.shape[-1]\n",
        "# hidden_size = 128\n",
        "# num_layers = 3\n",
        "# num_classes = len(np.unique(y_train))\n",
        "# model = LSTM(input_size, hidden_size, num_layers, num_classes).to(device)"
      ]
    },
    {
      "cell_type": "code",
      "execution_count": 194,
      "metadata": {
        "colab": {
          "base_uri": "https://localhost:8080/"
        },
        "id": "ORoot8MW4MeT",
        "outputId": "60ff8591-b02d-40fc-da1d-cb23526bae21"
      },
      "outputs": [
        {
          "output_type": "stream",
          "name": "stdout",
          "text": [
            "torch.Size([64, 26])\n"
          ]
        }
      ],
      "source": [
        "#feed a sample through the model\n",
        "for data, target in train_loader:\n",
        "    data = data.to(device)\n",
        "    target = target.to(device)\n",
        "    output = model(data)\n",
        "    print(output.shape)\n",
        "    break"
      ]
    },
    {
      "cell_type": "code",
      "execution_count": 195,
      "metadata": {
        "id": "G6WLlrW_4MeT"
      },
      "outputs": [],
      "source": [
        "#optimizer and loss\n",
        "optimizer = optim.Adam(model.parameters(), lr=0.001)\n",
        "criterion = nn.CrossEntropyLoss()"
      ]
    },
    {
      "cell_type": "code",
      "execution_count": 196,
      "metadata": {
        "colab": {
          "base_uri": "https://localhost:8080/"
        },
        "id": "vcfvP97p4MeU",
        "outputId": "f5900cd5-692e-4da6-c028-409aee00a286"
      },
      "outputs": [
        {
          "output_type": "stream",
          "name": "stdout",
          "text": [
            "Epoch: 1, Loss: 3.2658\n",
            "Epoch: 101, Loss: 1.9968\n",
            "Epoch: 201, Loss: 1.2423\n",
            "Epoch: 301, Loss: 0.5987\n",
            "Epoch: 401, Loss: 0.2918\n",
            "Epoch: 501, Loss: 0.1751\n",
            "Epoch: 601, Loss: 0.4864\n",
            "Epoch: 701, Loss: 0.0995\n",
            "Epoch: 801, Loss: 0.2643\n",
            "Epoch: 901, Loss: 0.1742\n"
          ]
        }
      ],
      "source": [
        "#training\n",
        "n_epochs = 1000\n",
        "for epoch in range(n_epochs):\n",
        "    for data, target in train_loader:\n",
        "        data = data.to(device)\n",
        "        target = target.to(device)\n",
        "        #forward\n",
        "        output = model(data)\n",
        "        loss = criterion(output, target)\n",
        "        #backward\n",
        "        optimizer.zero_grad()\n",
        "        loss.backward()\n",
        "        optimizer.step()\n",
        "    if epoch%100==0:\n",
        "        print(f'Epoch: {epoch+1}, Loss: {loss.item():.4f}')"
      ]
    },
    {
      "cell_type": "code",
      "execution_count": 197,
      "metadata": {
        "colab": {
          "base_uri": "https://localhost:8080/"
        },
        "id": "J0J13adl4MeU",
        "outputId": "41e45dce-dd9c-464e-cd26-ca932ef6a153"
      },
      "outputs": [
        {
          "output_type": "stream",
          "name": "stdout",
          "text": [
            "Accuracy: 37.29\n"
          ]
        }
      ],
      "source": [
        "#testing\n",
        "with torch.no_grad():\n",
        "    n_correct = 0\n",
        "    n_samples = 0\n",
        "    for data, target in test_loader:\n",
        "        data = data.to(device)\n",
        "        target = target.to(device)\n",
        "        output = model(data)\n",
        "        #value, index\n",
        "        _, predictions = torch.max(output, 1)\n",
        "        n_samples += target.shape[0]\n",
        "        n_correct += (predictions == target).sum().item()\n",
        "    acc = 100.0 * n_correct / n_samples\n",
        "    print(f'Accuracy: {acc:.2f}')"
      ]
    },
    {
      "cell_type": "code",
      "execution_count": 197,
      "metadata": {
        "id": "cmQzAXxd4MeU"
      },
      "outputs": [],
      "source": []
    }
  ],
  "metadata": {
    "kernelspec": {
      "display_name": "Python 3.9.15 ('pytorch')",
      "language": "python",
      "name": "python3"
    },
    "language_info": {
      "codemirror_mode": {
        "name": "ipython",
        "version": 3
      },
      "file_extension": ".py",
      "mimetype": "text/x-python",
      "name": "python",
      "nbconvert_exporter": "python",
      "pygments_lexer": "ipython3",
      "version": "3.9.15"
    },
    "orig_nbformat": 4,
    "vscode": {
      "interpreter": {
        "hash": "77f0ac4a1ff910c6f832be6ab53afe92115f75471ff7ffff1273b50351d0e386"
      }
    },
    "colab": {
      "provenance": [],
      "include_colab_link": true
    },
    "accelerator": "GPU",
    "gpuClass": "standard"
  },
  "nbformat": 4,
  "nbformat_minor": 0
}