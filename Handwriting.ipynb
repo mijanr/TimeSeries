{
 "cells": [
  {
   "cell_type": "code",
   "execution_count": 12,
   "metadata": {},
   "outputs": [],
   "source": [
    "import numpy as np\n",
    "import matplotlib.pyplot as plt\n",
    "from sklearn.preprocessing import MinMaxScaler\n",
    "\n",
    "import torch\n",
    "import torch.nn as nn\n",
    "import torch.nn.functional as F\n",
    "import torch.optim as optim\n",
    "from torch.utils.data import DataLoader, TensorDataset\n",
    "\n",
    "from xgboost import XGBClassifier\n",
    "from sklearn.metrics import accuracy_score\n",
    "from sklearn.preprocessing import LabelEncoder\n",
    "\n",
    "from sktime.datasets import load_UCR_UEA_dataset\n",
    "from tslearn.datasets import UCR_UEA_datasets\n",
    "\n",
    "#1d interpolation\n",
    "from scipy.interpolate import interp1d\n",
    "\n",
    "#tensorboard\n",
    "from torch.utils.tensorboard import SummaryWriter\n",
    "writer = SummaryWriter('runs/ChlorineConcentration')"
   ]
  },
  {
   "cell_type": "code",
   "execution_count": 13,
   "metadata": {},
   "outputs": [],
   "source": [
    "dataset_name = 'Handwriting'"
   ]
  },
  {
   "cell_type": "code",
   "execution_count": 14,
   "metadata": {},
   "outputs": [],
   "source": [
    "#load dataset using tslearn\n",
    "data_loader = UCR_UEA_datasets()\n",
    "X_train, y_train, X_test, y_test  = data_loader.load_dataset(dataset_name)"
   ]
  },
  {
   "cell_type": "code",
   "execution_count": 15,
   "metadata": {},
   "outputs": [
    {
     "data": {
      "text/plain": [
       "((150, 152, 3), (150,), (850, 152, 3), (850,))"
      ]
     },
     "execution_count": 15,
     "metadata": {},
     "output_type": "execute_result"
    }
   ],
   "source": [
    "X_train.shape, y_train.shape, X_test.shape, y_test.shape"
   ]
  },
  {
   "cell_type": "code",
   "execution_count": 16,
   "metadata": {},
   "outputs": [],
   "source": [
    "#encode labels\n",
    "le = LabelEncoder()\n",
    "y_train = le.fit_transform(y_train)\n",
    "y_test = le.transform(y_test)"
   ]
  },
  {
   "cell_type": "code",
   "execution_count": 17,
   "metadata": {},
   "outputs": [],
   "source": [
    "#torch tensor\n",
    "X_train = torch.tensor(X_train, dtype=torch.float32)\n",
    "y_train = torch.tensor(y_train, dtype=torch.long)\n",
    "X_test = torch.tensor(X_test, dtype=torch.float32)\n",
    "y_test = torch.tensor(y_test, dtype=torch.long)"
   ]
  },
  {
   "cell_type": "code",
   "execution_count": 21,
   "metadata": {},
   "outputs": [],
   "source": [
    "#datasets\n",
    "train_dataset = TensorDataset(X_train, y_train)\n",
    "test_dataset = TensorDataset(X_test, y_test)\n",
    "#dataloaders\n",
    "train_loader = DataLoader(train_dataset, batch_size=64, shuffle=True)\n",
    "test_loader = DataLoader(test_dataset, batch_size=64, shuffle=False)"
   ]
  },
  {
   "cell_type": "code",
   "execution_count": 22,
   "metadata": {},
   "outputs": [
    {
     "data": {
      "text/plain": [
       "(torch.Size([150, 152, 3]),\n",
       " torch.Size([150]),\n",
       " torch.Size([850, 152, 3]),\n",
       " torch.Size([850]))"
      ]
     },
     "execution_count": 22,
     "metadata": {},
     "output_type": "execute_result"
    }
   ],
   "source": [
    "X_train.shape, y_train.shape, X_test.shape, y_test.shape"
   ]
  },
  {
   "cell_type": "code",
   "execution_count": 37,
   "metadata": {},
   "outputs": [],
   "source": [
    "#CNN model\n",
    "class CNN(nn.Module):\n",
    "    def __init__(self, input_size, num_classes):\n",
    "        super(CNN, self).__init__()\n",
    "        self.sequential_1 = nn.Sequential(\n",
    "            nn.Conv1d(in_channels=input_size, out_channels=16, kernel_size=3, stride=1, padding=1),\n",
    "            nn.BatchNorm1d(16),\n",
    "            nn.ReLU(),\n",
    "            nn.MaxPool1d(kernel_size=2, stride=2),\n",
    "            nn.Conv1d(in_channels=16, out_channels=32, kernel_size=3, stride=1, padding=1),\n",
    "            nn.BatchNorm1d(32),\n",
    "            nn.ReLU(),\n",
    "            #global average pooling\n",
    "            nn.AdaptiveAvgPool1d(1)\n",
    "        )\n",
    "        self.sequential_2 = nn.Sequential(\n",
    "            nn.LazyLinear(out_features=128),\n",
    "            nn.ReLU(),\n",
    "            nn.Dropout(0.2),\n",
    "            nn.Linear(in_features=128, out_features=num_classes)\n",
    "        )\n",
    "    def forward(self, x):\n",
    "        #swap axes\n",
    "        x = x.permute(0, 2, 1)\n",
    "        x = self.sequential_1(x)\n",
    "        x = x.reshape(x.shape[0], -1)\n",
    "        x = self.sequential_2(x)\n",
    "        return x\n",
    "#LSM model\n",
    "class LSTM(nn.Module):\n",
    "    def __init__(self, input_size, hidden_size, num_layers, num_classes):\n",
    "        super(LSTM, self).__init__()\n",
    "        self.hidden_size = hidden_size\n",
    "        self.num_layers = num_layers\n",
    "        self.lstm = nn.LSTM(input_size, hidden_size, num_layers, batch_first=True)\n",
    "        self.fc = nn.Linear(hidden_size, num_classes)\n",
    "        self.device = torch.device('cuda' if torch.cuda.is_available() else 'cpu')\n",
    "    def forward(self, x):\n",
    "        #set initial states\n",
    "        h0 = torch.zeros(self.num_layers, x.size(0), self.hidden_size).to(device)\n",
    "        c0 = torch.zeros(self.num_layers, x.size(0), self.hidden_size).to(device)\n",
    "        #forward propagate LSTM\n",
    "        out, _ = self.lstm(x, (h0, c0))\n",
    "        #decode the hidden state of the last time step\n",
    "        out = self.fc(out[:, -1, :])\n",
    "        return out"
   ]
  },
  {
   "cell_type": "code",
   "execution_count": 24,
   "metadata": {},
   "outputs": [],
   "source": [
    "device = torch.device('cuda' if torch.cuda.is_available() else 'cpu')"
   ]
  },
  {
   "cell_type": "code",
   "execution_count": 38,
   "metadata": {},
   "outputs": [],
   "source": [
    "# #cnn model\n",
    "# input_size = X_train.shape[-1]\n",
    "# num_classes = len(np.unique(y_train))\n",
    "# model = CNN(input_size, num_classes).to(device)\n",
    "# lstm model\n",
    "input_size = X_train.shape[-1]\n",
    "hidden_size = 128\n",
    "num_layers = 2\n",
    "num_classes = len(np.unique(y_train))\n",
    "model = LSTM(input_size, hidden_size, num_layers, num_classes).to(device)"
   ]
  },
  {
   "cell_type": "code",
   "execution_count": 39,
   "metadata": {},
   "outputs": [
    {
     "name": "stdout",
     "output_type": "stream",
     "text": [
      "torch.Size([64, 26])\n"
     ]
    }
   ],
   "source": [
    "#feed a sample through the model\n",
    "for data, target in train_loader:\n",
    "    data = data.to(device)\n",
    "    target = target.to(device)\n",
    "    output = model(data)\n",
    "    print(output.shape)\n",
    "    break"
   ]
  },
  {
   "cell_type": "code",
   "execution_count": 40,
   "metadata": {},
   "outputs": [],
   "source": [
    "#optimizer and loss\n",
    "optimizer = optim.Adam(model.parameters(), lr=0.001)\n",
    "criterion = nn.CrossEntropyLoss()"
   ]
  },
  {
   "cell_type": "code",
   "execution_count": 41,
   "metadata": {},
   "outputs": [
    {
     "name": "stdout",
     "output_type": "stream",
     "text": [
      "Epoch: 1, Loss: 3.2489\n",
      "Epoch: 2, Loss: 3.2796\n",
      "Epoch: 3, Loss: 3.2566\n",
      "Epoch: 4, Loss: 3.2464\n",
      "Epoch: 5, Loss: 3.2025\n",
      "Epoch: 6, Loss: 3.2246\n",
      "Epoch: 7, Loss: 3.0480\n",
      "Epoch: 8, Loss: 3.0290\n",
      "Epoch: 9, Loss: 3.0287\n",
      "Epoch: 10, Loss: 3.1759\n",
      "Epoch: 11, Loss: 3.1738\n",
      "Epoch: 12, Loss: 3.2617\n",
      "Epoch: 13, Loss: 3.1219\n",
      "Epoch: 14, Loss: 3.0926\n",
      "Epoch: 15, Loss: 3.1800\n",
      "Epoch: 16, Loss: 3.1996\n",
      "Epoch: 17, Loss: 3.2163\n",
      "Epoch: 18, Loss: 3.1096\n",
      "Epoch: 19, Loss: 3.2621\n",
      "Epoch: 20, Loss: 2.9885\n",
      "Epoch: 21, Loss: 3.2459\n",
      "Epoch: 22, Loss: 3.1431\n",
      "Epoch: 23, Loss: 3.2103\n",
      "Epoch: 24, Loss: 3.0421\n",
      "Epoch: 25, Loss: 3.1640\n",
      "Epoch: 26, Loss: 3.0761\n",
      "Epoch: 27, Loss: 2.8077\n",
      "Epoch: 28, Loss: 2.9868\n",
      "Epoch: 29, Loss: 3.0970\n",
      "Epoch: 30, Loss: 3.0498\n",
      "Epoch: 31, Loss: 2.8383\n",
      "Epoch: 32, Loss: 3.0276\n",
      "Epoch: 33, Loss: 2.7772\n",
      "Epoch: 34, Loss: 3.0214\n",
      "Epoch: 35, Loss: 2.7622\n",
      "Epoch: 36, Loss: 2.9551\n",
      "Epoch: 37, Loss: 3.1587\n",
      "Epoch: 38, Loss: 3.0793\n",
      "Epoch: 39, Loss: 2.9121\n",
      "Epoch: 40, Loss: 2.9874\n",
      "Epoch: 41, Loss: 2.8599\n",
      "Epoch: 42, Loss: 2.7517\n",
      "Epoch: 43, Loss: 2.8106\n",
      "Epoch: 44, Loss: 3.0722\n",
      "Epoch: 45, Loss: 2.8392\n",
      "Epoch: 46, Loss: 2.9211\n",
      "Epoch: 47, Loss: 2.5877\n",
      "Epoch: 48, Loss: 3.0288\n",
      "Epoch: 49, Loss: 3.1754\n",
      "Epoch: 50, Loss: 2.8406\n",
      "Epoch: 51, Loss: 2.5155\n",
      "Epoch: 52, Loss: 2.7747\n",
      "Epoch: 53, Loss: 2.9487\n",
      "Epoch: 54, Loss: 2.8061\n",
      "Epoch: 55, Loss: 2.9547\n",
      "Epoch: 56, Loss: 2.8643\n",
      "Epoch: 57, Loss: 2.7725\n",
      "Epoch: 58, Loss: 2.7909\n",
      "Epoch: 59, Loss: 2.9506\n",
      "Epoch: 60, Loss: 2.8015\n",
      "Epoch: 61, Loss: 2.7787\n",
      "Epoch: 62, Loss: 2.6121\n",
      "Epoch: 63, Loss: 2.5774\n",
      "Epoch: 64, Loss: 2.6509\n",
      "Epoch: 65, Loss: 2.8180\n",
      "Epoch: 66, Loss: 2.7480\n",
      "Epoch: 67, Loss: 2.7633\n",
      "Epoch: 68, Loss: 2.6089\n",
      "Epoch: 69, Loss: 2.9138\n",
      "Epoch: 70, Loss: 2.8970\n",
      "Epoch: 71, Loss: 2.6891\n",
      "Epoch: 72, Loss: 2.8117\n",
      "Epoch: 73, Loss: 2.6563\n",
      "Epoch: 74, Loss: 2.7587\n",
      "Epoch: 75, Loss: 2.6303\n",
      "Epoch: 76, Loss: 3.0619\n",
      "Epoch: 77, Loss: 2.7323\n",
      "Epoch: 78, Loss: 2.3478\n",
      "Epoch: 79, Loss: 2.6975\n",
      "Epoch: 80, Loss: 2.6606\n",
      "Epoch: 81, Loss: 2.4830\n",
      "Epoch: 82, Loss: 2.5121\n",
      "Epoch: 83, Loss: 2.3897\n",
      "Epoch: 84, Loss: 2.2573\n",
      "Epoch: 85, Loss: 2.3665\n",
      "Epoch: 86, Loss: 2.3464\n",
      "Epoch: 87, Loss: 2.3102\n",
      "Epoch: 88, Loss: 2.2691\n",
      "Epoch: 89, Loss: 2.4616\n",
      "Epoch: 90, Loss: 2.4086\n",
      "Epoch: 91, Loss: 2.4887\n",
      "Epoch: 92, Loss: 2.4103\n",
      "Epoch: 93, Loss: 2.3028\n",
      "Epoch: 94, Loss: 2.6163\n",
      "Epoch: 95, Loss: 2.5586\n",
      "Epoch: 96, Loss: 2.7245\n",
      "Epoch: 97, Loss: 2.5264\n",
      "Epoch: 98, Loss: 2.1262\n",
      "Epoch: 99, Loss: 2.4825\n",
      "Epoch: 100, Loss: 2.4287\n",
      "Epoch: 101, Loss: 2.7487\n",
      "Epoch: 102, Loss: 2.3948\n",
      "Epoch: 103, Loss: 2.5837\n",
      "Epoch: 104, Loss: 2.3932\n",
      "Epoch: 105, Loss: 2.2502\n",
      "Epoch: 106, Loss: 2.5749\n",
      "Epoch: 107, Loss: 2.3439\n",
      "Epoch: 108, Loss: 2.1908\n",
      "Epoch: 109, Loss: 2.4112\n",
      "Epoch: 110, Loss: 2.1075\n",
      "Epoch: 111, Loss: 1.9814\n",
      "Epoch: 112, Loss: 1.9127\n",
      "Epoch: 113, Loss: 2.0287\n",
      "Epoch: 114, Loss: 2.1046\n",
      "Epoch: 115, Loss: 2.1480\n",
      "Epoch: 116, Loss: 2.1764\n",
      "Epoch: 117, Loss: 2.2741\n",
      "Epoch: 118, Loss: 2.3262\n",
      "Epoch: 119, Loss: 2.1017\n",
      "Epoch: 120, Loss: 2.1721\n",
      "Epoch: 121, Loss: 2.5193\n",
      "Epoch: 122, Loss: 2.4385\n",
      "Epoch: 123, Loss: 2.2466\n",
      "Epoch: 124, Loss: 2.1256\n",
      "Epoch: 125, Loss: 2.2130\n",
      "Epoch: 126, Loss: 2.5148\n",
      "Epoch: 127, Loss: 2.1902\n"
     ]
    },
    {
     "ename": "KeyboardInterrupt",
     "evalue": "",
     "output_type": "error",
     "traceback": [
      "\u001b[0;31m---------------------------------------------------------------------------\u001b[0m",
      "\u001b[0;31mKeyboardInterrupt\u001b[0m                         Traceback (most recent call last)",
      "Cell \u001b[0;32mIn [41], line 8\u001b[0m\n\u001b[1;32m      6\u001b[0m target \u001b[39m=\u001b[39m target\u001b[39m.\u001b[39mto(device)\n\u001b[1;32m      7\u001b[0m \u001b[39m#forward\u001b[39;00m\n\u001b[0;32m----> 8\u001b[0m output \u001b[39m=\u001b[39m model(data)\n\u001b[1;32m      9\u001b[0m loss \u001b[39m=\u001b[39m criterion(output, target)\n\u001b[1;32m     10\u001b[0m \u001b[39m#backward\u001b[39;00m\n",
      "File \u001b[0;32m~/anaconda3/envs/pytorch/lib/python3.9/site-packages/torch/nn/modules/module.py:1190\u001b[0m, in \u001b[0;36mModule._call_impl\u001b[0;34m(self, *input, **kwargs)\u001b[0m\n\u001b[1;32m   1186\u001b[0m \u001b[39m# If we don't have any hooks, we want to skip the rest of the logic in\u001b[39;00m\n\u001b[1;32m   1187\u001b[0m \u001b[39m# this function, and just call forward.\u001b[39;00m\n\u001b[1;32m   1188\u001b[0m \u001b[39mif\u001b[39;00m \u001b[39mnot\u001b[39;00m (\u001b[39mself\u001b[39m\u001b[39m.\u001b[39m_backward_hooks \u001b[39mor\u001b[39;00m \u001b[39mself\u001b[39m\u001b[39m.\u001b[39m_forward_hooks \u001b[39mor\u001b[39;00m \u001b[39mself\u001b[39m\u001b[39m.\u001b[39m_forward_pre_hooks \u001b[39mor\u001b[39;00m _global_backward_hooks\n\u001b[1;32m   1189\u001b[0m         \u001b[39mor\u001b[39;00m _global_forward_hooks \u001b[39mor\u001b[39;00m _global_forward_pre_hooks):\n\u001b[0;32m-> 1190\u001b[0m     \u001b[39mreturn\u001b[39;00m forward_call(\u001b[39m*\u001b[39;49m\u001b[39minput\u001b[39;49m, \u001b[39m*\u001b[39;49m\u001b[39m*\u001b[39;49mkwargs)\n\u001b[1;32m   1191\u001b[0m \u001b[39m# Do not call functions when jit is used\u001b[39;00m\n\u001b[1;32m   1192\u001b[0m full_backward_hooks, non_full_backward_hooks \u001b[39m=\u001b[39m [], []\n",
      "Cell \u001b[0;32mIn [37], line 43\u001b[0m, in \u001b[0;36mLSTM.forward\u001b[0;34m(self, x)\u001b[0m\n\u001b[1;32m     41\u001b[0m c0 \u001b[39m=\u001b[39m torch\u001b[39m.\u001b[39mzeros(\u001b[39mself\u001b[39m\u001b[39m.\u001b[39mnum_layers, x\u001b[39m.\u001b[39msize(\u001b[39m0\u001b[39m), \u001b[39mself\u001b[39m\u001b[39m.\u001b[39mhidden_size)\u001b[39m.\u001b[39mto(device)\n\u001b[1;32m     42\u001b[0m \u001b[39m#forward propagate LSTM\u001b[39;00m\n\u001b[0;32m---> 43\u001b[0m out, _ \u001b[39m=\u001b[39m \u001b[39mself\u001b[39;49m\u001b[39m.\u001b[39;49mlstm(x, (h0, c0))\n\u001b[1;32m     44\u001b[0m \u001b[39m#decode the hidden state of the last time step\u001b[39;00m\n\u001b[1;32m     45\u001b[0m out \u001b[39m=\u001b[39m \u001b[39mself\u001b[39m\u001b[39m.\u001b[39mfc(out[:, \u001b[39m-\u001b[39m\u001b[39m1\u001b[39m, :])\n",
      "File \u001b[0;32m~/anaconda3/envs/pytorch/lib/python3.9/site-packages/torch/nn/modules/module.py:1190\u001b[0m, in \u001b[0;36mModule._call_impl\u001b[0;34m(self, *input, **kwargs)\u001b[0m\n\u001b[1;32m   1186\u001b[0m \u001b[39m# If we don't have any hooks, we want to skip the rest of the logic in\u001b[39;00m\n\u001b[1;32m   1187\u001b[0m \u001b[39m# this function, and just call forward.\u001b[39;00m\n\u001b[1;32m   1188\u001b[0m \u001b[39mif\u001b[39;00m \u001b[39mnot\u001b[39;00m (\u001b[39mself\u001b[39m\u001b[39m.\u001b[39m_backward_hooks \u001b[39mor\u001b[39;00m \u001b[39mself\u001b[39m\u001b[39m.\u001b[39m_forward_hooks \u001b[39mor\u001b[39;00m \u001b[39mself\u001b[39m\u001b[39m.\u001b[39m_forward_pre_hooks \u001b[39mor\u001b[39;00m _global_backward_hooks\n\u001b[1;32m   1189\u001b[0m         \u001b[39mor\u001b[39;00m _global_forward_hooks \u001b[39mor\u001b[39;00m _global_forward_pre_hooks):\n\u001b[0;32m-> 1190\u001b[0m     \u001b[39mreturn\u001b[39;00m forward_call(\u001b[39m*\u001b[39;49m\u001b[39minput\u001b[39;49m, \u001b[39m*\u001b[39;49m\u001b[39m*\u001b[39;49mkwargs)\n\u001b[1;32m   1191\u001b[0m \u001b[39m# Do not call functions when jit is used\u001b[39;00m\n\u001b[1;32m   1192\u001b[0m full_backward_hooks, non_full_backward_hooks \u001b[39m=\u001b[39m [], []\n",
      "File \u001b[0;32m~/anaconda3/envs/pytorch/lib/python3.9/site-packages/torch/nn/modules/rnn.py:774\u001b[0m, in \u001b[0;36mLSTM.forward\u001b[0;34m(self, input, hx)\u001b[0m\n\u001b[1;32m    772\u001b[0m \u001b[39mself\u001b[39m\u001b[39m.\u001b[39mcheck_forward_args(\u001b[39minput\u001b[39m, hx, batch_sizes)\n\u001b[1;32m    773\u001b[0m \u001b[39mif\u001b[39;00m batch_sizes \u001b[39mis\u001b[39;00m \u001b[39mNone\u001b[39;00m:\n\u001b[0;32m--> 774\u001b[0m     result \u001b[39m=\u001b[39m _VF\u001b[39m.\u001b[39;49mlstm(\u001b[39minput\u001b[39;49m, hx, \u001b[39mself\u001b[39;49m\u001b[39m.\u001b[39;49m_flat_weights, \u001b[39mself\u001b[39;49m\u001b[39m.\u001b[39;49mbias, \u001b[39mself\u001b[39;49m\u001b[39m.\u001b[39;49mnum_layers,\n\u001b[1;32m    775\u001b[0m                       \u001b[39mself\u001b[39;49m\u001b[39m.\u001b[39;49mdropout, \u001b[39mself\u001b[39;49m\u001b[39m.\u001b[39;49mtraining, \u001b[39mself\u001b[39;49m\u001b[39m.\u001b[39;49mbidirectional, \u001b[39mself\u001b[39;49m\u001b[39m.\u001b[39;49mbatch_first)\n\u001b[1;32m    776\u001b[0m \u001b[39melse\u001b[39;00m:\n\u001b[1;32m    777\u001b[0m     result \u001b[39m=\u001b[39m _VF\u001b[39m.\u001b[39mlstm(\u001b[39minput\u001b[39m, batch_sizes, hx, \u001b[39mself\u001b[39m\u001b[39m.\u001b[39m_flat_weights, \u001b[39mself\u001b[39m\u001b[39m.\u001b[39mbias,\n\u001b[1;32m    778\u001b[0m                       \u001b[39mself\u001b[39m\u001b[39m.\u001b[39mnum_layers, \u001b[39mself\u001b[39m\u001b[39m.\u001b[39mdropout, \u001b[39mself\u001b[39m\u001b[39m.\u001b[39mtraining, \u001b[39mself\u001b[39m\u001b[39m.\u001b[39mbidirectional)\n",
      "\u001b[0;31mKeyboardInterrupt\u001b[0m: "
     ]
    }
   ],
   "source": [
    "#training\n",
    "n_epochs = 1000\n",
    "for epoch in range(n_epochs):\n",
    "    for data, target in train_loader:\n",
    "        data = data.to(device)\n",
    "        target = target.to(device)\n",
    "        #forward\n",
    "        output = model(data)\n",
    "        loss = criterion(output, target)\n",
    "        #backward\n",
    "        optimizer.zero_grad()\n",
    "        loss.backward()\n",
    "        optimizer.step()\n",
    "    print(f'Epoch: {epoch+1}, Loss: {loss.item():.4f}')"
   ]
  },
  {
   "cell_type": "code",
   "execution_count": 42,
   "metadata": {},
   "outputs": [
    {
     "name": "stdout",
     "output_type": "stream",
     "text": [
      "Accuracy: 9.06\n"
     ]
    }
   ],
   "source": [
    "#testing\n",
    "with torch.no_grad():\n",
    "    n_correct = 0\n",
    "    n_samples = 0\n",
    "    for data, target in test_loader:\n",
    "        data = data.to(device)\n",
    "        target = target.to(device)\n",
    "        output = model(data)\n",
    "        #value, index\n",
    "        _, predictions = torch.max(output, 1)\n",
    "        n_samples += target.shape[0]\n",
    "        n_correct += (predictions == target).sum().item()\n",
    "    acc = 100.0 * n_correct / n_samples\n",
    "    print(f'Accuracy: {acc:.2f}')"
   ]
  },
  {
   "cell_type": "code",
   "execution_count": null,
   "metadata": {},
   "outputs": [],
   "source": []
  }
 ],
 "metadata": {
  "kernelspec": {
   "display_name": "Python 3.9.15 ('pytorch')",
   "language": "python",
   "name": "python3"
  },
  "language_info": {
   "codemirror_mode": {
    "name": "ipython",
    "version": 3
   },
   "file_extension": ".py",
   "mimetype": "text/x-python",
   "name": "python",
   "nbconvert_exporter": "python",
   "pygments_lexer": "ipython3",
   "version": "3.9.15"
  },
  "orig_nbformat": 4,
  "vscode": {
   "interpreter": {
    "hash": "77f0ac4a1ff910c6f832be6ab53afe92115f75471ff7ffff1273b50351d0e386"
   }
  }
 },
 "nbformat": 4,
 "nbformat_minor": 2
}
